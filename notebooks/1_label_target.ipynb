{
 "cells": [
  {
   "cell_type": "code",
   "execution_count": 1,
   "id": "1744a01b-d06c-4649-851a-55d59671fcbd",
   "metadata": {},
   "outputs": [],
   "source": [
    "%load_ext autoreload\n",
    "%autoreload 2"
   ]
  },
  {
   "cell_type": "markdown",
   "id": "6a4e2d1f-c363-4ebd-9a86-113623c8df89",
   "metadata": {},
   "source": [
    "# Load packages and basic definitions"
   ]
  },
  {
   "cell_type": "code",
   "execution_count": 1,
   "id": "3474c636-5485-4ce0-85d6-fe39a1b8ec91",
   "metadata": {},
   "outputs": [],
   "source": [
    "import os\n",
    "os.chdir('../')\n",
    "import sys\n",
    "import pandas as pd\n",
    "from concurrent.futures import ThreadPoolExecutor\n",
    "from src import api_utils"
   ]
  },
  {
   "cell_type": "code",
   "execution_count": 2,
   "id": "9148aa1a-97c6-47e5-977d-9c77c44f022e",
   "metadata": {},
   "outputs": [],
   "source": [
    "# You can update batch_size or backup_training_file if needed\n",
    "api_utils.batch_size = 5\n",
    "api_utils.backup_training_file = 'data/processed/labeled_output.csv'"
   ]
  },
  {
   "cell_type": "code",
   "execution_count": 3,
   "id": "dd8178a9-7c8b-4e3b-bccd-0799b5db8fbc",
   "metadata": {},
   "outputs": [],
   "source": [
    "pd.set_option('display.max_colwidth', None)"
   ]
  },
  {
   "cell_type": "markdown",
   "id": "574226dc-8dd5-4066-84e5-12945085b235",
   "metadata": {},
   "source": [
    "# Load data and basic preprocessing"
   ]
  },
  {
   "cell_type": "code",
   "execution_count": 4,
   "id": "87b0aae5-3763-4664-8576-f6bd9de504a9",
   "metadata": {},
   "outputs": [],
   "source": [
    "labeled_path = \"data/processed/labeled_output.csv\"\n",
    "raw_path = \"data/raw/dataset_train.csv\""
   ]
  },
  {
   "cell_type": "code",
   "execution_count": 5,
   "id": "357733ed-fdb8-4516-a528-36ef8d33c6d0",
   "metadata": {},
   "outputs": [
    {
     "name": "stdout",
     "output_type": "stream",
     "text": [
      "Found existing labeled data. Resuming...\n"
     ]
    }
   ],
   "source": [
    "if os.path.exists(labeled_path):\n",
    "    print(\"Found existing labeled data. Resuming...\")\n",
    "    api_utils.df = pd.read_csv(labeled_path)\n",
    "else:\n",
    "    print(\"No labeled data found. Starting from raw dataset...\")\n",
    "    api_utils.df = pd.read_csv(raw_path, sep='|')\n",
    "    api_utils.df = api_utils.df.iloc[:, 1:]\n",
    "    api_utils.df.rename(columns={'input;': 'text'}, inplace=True)\n",
    "    api_utils.df['text'] = api_utils.df['text'].str.rstrip(';')"
   ]
  },
  {
   "cell_type": "code",
   "execution_count": 6,
   "id": "3616d067-c64f-428a-b933-d1a68fe48c43",
   "metadata": {},
   "outputs": [],
   "source": [
    "valid_set = pd.read_csv('data/raw/dataset_valid.csv', sep='|')\n",
    "valid_set = valid_set.iloc[:, 1:]\n",
    "valid_set.rename(columns={'input': 'text'}, inplace=True)"
   ]
  },
  {
   "cell_type": "code",
   "execution_count": 7,
   "id": "d51e790f-f19a-4d0f-904b-5c26dc1465b6",
   "metadata": {},
   "outputs": [
    {
     "name": "stdout",
     "output_type": "stream",
     "text": [
      "valid set\n",
      " text\n",
      "False    199\n",
      "Name: count, dtype: int64\n",
      "\n",
      "train set\n",
      " text\n",
      "False    651\n",
      "Name: count, dtype: int64\n"
     ]
    }
   ],
   "source": [
    "# Stripping trailing semicolons since the validation set doesn't include them — probably added by mistake in the original dataset\n",
    "print('valid set\\n', valid_set['text'].str.endswith(';').value_counts())\n",
    "print('\\ntrain set\\n', api_utils.df['text'].str.endswith(';').value_counts())"
   ]
  },
  {
   "cell_type": "markdown",
   "id": "7475fa99-eb43-4790-a45b-deabf2dc5e5c",
   "metadata": {},
   "source": [
    "# Create target in train dataset"
   ]
  },
  {
   "cell_type": "code",
   "execution_count": 11,
   "id": "cdacce72-a14f-489f-914f-fe411074d1ac",
   "metadata": {},
   "outputs": [],
   "source": [
    "model_list = list(api_utils.model_dict.keys())"
   ]
  },
  {
   "cell_type": "code",
   "execution_count": 12,
   "id": "6f54871d-31ae-4ce1-96d6-f305b4efd570",
   "metadata": {},
   "outputs": [],
   "source": [
    "for model in model_list:\n",
    "    col = f\"rating_{model}\"\n",
    "    if col not in api_utils.df.columns:\n",
    "        api_utils.df[col] = pd.NA"
   ]
  },
  {
   "cell_type": "code",
   "execution_count": 1,
   "id": "3754dd43-a05b-4e77-bb08-01f5893d9260",
   "metadata": {},
   "outputs": [],
   "source": [
    "for i in range(10):\n",
    "    with ThreadPoolExecutor(max_workers=len(model_list)) as executor:\n",
    "        executor.map(api_utils.run_batches_for_model, model_list)\n",
    "\n",
    "    remaining = {\n",
    "        model: api_utils.df[f\"rating_{model}\"].isna().sum()\n",
    "        for model in api_utils.model_dict\n",
    "    }\n",
    "    print(f\"Iteration {i} remaining:\", remaining)\n",
    "\n",
    "    if all(v == 0 for v in remaining.values()):\n",
    "        print(\"All models complete.\")\n",
    "        break"
   ]
  }
 ],
 "metadata": {
  "kernelspec": {
   "display_name": "Python 3 (ipykernel)",
   "language": "python",
   "name": "python3"
  },
  "language_info": {
   "codemirror_mode": {
    "name": "ipython",
    "version": 3
   },
   "file_extension": ".py",
   "mimetype": "text/x-python",
   "name": "python",
   "nbconvert_exporter": "python",
   "pygments_lexer": "ipython3",
   "version": "3.12.7"
  }
 },
 "nbformat": 4,
 "nbformat_minor": 5
}
