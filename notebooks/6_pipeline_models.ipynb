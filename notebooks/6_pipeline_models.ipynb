{
 "cells": [
  {
   "cell_type": "code",
   "execution_count": 1,
   "id": "76b8e092-8969-429b-bff4-17d39e3f78e7",
   "metadata": {},
   "outputs": [],
   "source": [
    "import os\n",
    "os.chdir('../')"
   ]
  },
  {
   "cell_type": "code",
   "execution_count": null,
   "id": "ce27136e-8919-4e67-b84b-20808e94e8c9",
   "metadata": {},
   "outputs": [],
   "source": [
    "import sys\n",
    "sys.path.append(os.path.abspath('src'))\n",
    "\n",
    "import pandas as pd\n",
    "import numpy as np\n",
    "import joblib\n",
    "\n",
    "from sklearn.pipeline import Pipeline, FeatureUnion\n",
    "from sklearn.preprocessing import StandardScaler\n",
    "from sklearn.feature_extraction.text import CountVectorizer, TfidfVectorizer\n",
    "from sklearn.decomposition import TruncatedSVD\n",
    "from sklearn.base import BaseEstimator, ClassifierMixin\n",
    "\n",
    "from sklearn.metrics import classification_report, confusion_matrix, f1_score, accuracy_score, precision_score, recall_score\n",
    "\n",
    "from sklearn.linear_model import LogisticRegression\n",
    "from sklearn.dummy import DummyClassifier\n",
    "\n",
    "from lightgbm import LGBMClassifier\n",
    "\n",
    "from sentence_transformers import SentenceTransformer\n",
    "from transformers import BertTokenizer, BertForSequenceClassification\n",
    "\n",
    "from feature_engineering import FullFeatureExtractor, SelectStructured, SelectText\n",
    "from src.nlp_models.sentence_bert_lr import SentenceBertStructuredLRClassifier, load_sentence_bert_lr\n",
    "from src.nlp_models.fine_tuned_bert import FineTunedBertClassifier\n",
    "from resources import blocklist, whitelist\n",
    "from resources_lemmatization import trigram_group_mapping, bigram_group_mapping, trigram_list, bigram_list"
   ]
  },
  {
   "cell_type": "code",
   "execution_count": 4,
   "id": "dc600eca-b19a-40d6-a79c-75031f2cb305",
   "metadata": {},
   "outputs": [],
   "source": [
    "feature_extractor = FullFeatureExtractor(blocklist, whitelist,\n",
    "                                         trigram_group_mapping, bigram_group_mapping,\n",
    "                                         trigram_list, bigram_list)\n",
    "feature_extractor_bert = FullFeatureExtractor(blocklist, whitelist,\n",
    "                                         trigram_group_mapping, bigram_group_mapping,\n",
    "                                         trigram_list, bigram_list, use_light_clean_for_text=True)"
   ]
  },
  {
   "cell_type": "code",
   "execution_count": 5,
   "id": "f4b9993c-4760-4a05-88db-e5495195eb9a",
   "metadata": {},
   "outputs": [],
   "source": [
    "df = pd.read_csv('data/processed/final_label.csv')"
   ]
  },
  {
   "cell_type": "code",
   "execution_count": 6,
   "id": "ad070bfa-c9bd-4054-a7e3-59c744435397",
   "metadata": {},
   "outputs": [],
   "source": [
    "X = df['text']\n",
    "y = df['target']"
   ]
  },
  {
   "cell_type": "markdown",
   "id": "d4dff6db-980d-4061-871e-305801507540",
   "metadata": {},
   "source": [
    "# First tier"
   ]
  },
  {
   "cell_type": "markdown",
   "id": "2f889269-d34f-41ad-aae7-f3daf286d099",
   "metadata": {},
   "source": [
    "## Dummy model"
   ]
  },
  {
   "cell_type": "code",
   "execution_count": 7,
   "id": "7864340a-6746-4151-ac6e-1f50b08a2807",
   "metadata": {},
   "outputs": [],
   "source": [
    "# Structured pipeline (same as before)\n",
    "structured_pipeline = Pipeline([\n",
    "    ('select_structured', SelectStructured()),\n",
    "    ('scaler', StandardScaler())\n",
    "])\n",
    "\n",
    "# Final dummy pipeline\n",
    "pipeline_dummy = Pipeline([\n",
    "    ('feature_extractor', feature_extractor),\n",
    "    ('structured', structured_pipeline),\n",
    "    ('clf', DummyClassifier(strategy='most_frequent'))\n",
    "])"
   ]
  },
  {
   "cell_type": "code",
   "execution_count": 8,
   "id": "1d83bc5d-7136-4734-8b06-2b93b83b77f5",
   "metadata": {},
   "outputs": [
    {
     "name": "stdout",
     "output_type": "stream",
     "text": [
      "              precision    recall  f1-score   support\n",
      "\n",
      "         0.0       0.00      0.00      0.00       153\n",
      "         1.0       0.74      1.00      0.85       434\n",
      "\n",
      "    accuracy                           0.74       587\n",
      "   macro avg       0.37      0.50      0.43       587\n",
      "weighted avg       0.55      0.74      0.63       587\n",
      "\n"
     ]
    }
   ],
   "source": [
    "pipeline_dummy.fit(X, y)\n",
    "y_pred_dummy = pipeline_dummy.predict(X)\n",
    "\n",
    "print(classification_report(y, y_pred_dummy, zero_division=0))"
   ]
  },
  {
   "cell_type": "markdown",
   "id": "baad1606-4593-415f-8ae6-8563466dfa25",
   "metadata": {},
   "source": [
    "## BOW + Logistic Regression"
   ]
  },
  {
   "cell_type": "code",
   "execution_count": 9,
   "id": "a7ddabe0-a428-402e-b8c0-fd39ca660533",
   "metadata": {},
   "outputs": [],
   "source": [
    "# Text pipeline\n",
    "text_pipeline = Pipeline([\n",
    "    ('select_text', SelectText()),\n",
    "    ('bow', CountVectorizer())\n",
    "])\n",
    "\n",
    "# Structured pipeline\n",
    "structured_pipeline = Pipeline([\n",
    "    ('select_structured', SelectStructured()),\n",
    "    ('scaler', StandardScaler())\n",
    "])\n",
    "\n",
    "# Combine\n",
    "combined_features = FeatureUnion([\n",
    "    ('structured', structured_pipeline),\n",
    "    ('text', text_pipeline)\n",
    "])\n",
    "\n",
    "# Final pipeline\n",
    "pipeline_bow_lr = Pipeline([\n",
    "    ('feature_extractor', feature_extractor),\n",
    "    ('combined_features', combined_features),\n",
    "    ('clf', LogisticRegression(max_iter=1000, class_weight='balanced'))\n",
    "])"
   ]
  },
  {
   "cell_type": "code",
   "execution_count": 10,
   "id": "aaa33eb8-f1e8-44de-9707-78ded770d22b",
   "metadata": {},
   "outputs": [
    {
     "name": "stdout",
     "output_type": "stream",
     "text": [
      "              precision    recall  f1-score   support\n",
      "\n",
      "         0.0       0.88      0.97      0.92       153\n",
      "         1.0       0.99      0.95      0.97       434\n",
      "\n",
      "    accuracy                           0.96       587\n",
      "   macro avg       0.93      0.96      0.95       587\n",
      "weighted avg       0.96      0.96      0.96       587\n",
      "\n"
     ]
    }
   ],
   "source": [
    "pipeline_bow_lr.fit(X, y)\n",
    "y_pred_bow_lr = pipeline_bow_lr.predict(X)\n",
    "\n",
    "print(classification_report(y, y_pred_bow_lr, zero_division=0))"
   ]
  },
  {
   "cell_type": "markdown",
   "id": "4a716288-bc9e-4948-baec-6a009cfe8075",
   "metadata": {},
   "source": [
    "## TF-IDF + Structured + Logistic Regression"
   ]
  },
  {
   "cell_type": "code",
   "execution_count": 11,
   "id": "33edea66-39e6-4b82-a83e-f40e63bd2e9d",
   "metadata": {},
   "outputs": [],
   "source": [
    "text_pipeline_tfidf = Pipeline([\n",
    "    ('select_text', SelectText()),\n",
    "    ('tfidf', TfidfVectorizer())\n",
    "])\n",
    "\n",
    "combined_features_tfidf = FeatureUnion([\n",
    "    ('structured', structured_pipeline),\n",
    "    ('text', text_pipeline_tfidf)\n",
    "])\n",
    "\n",
    "pipeline_tfidf_lr = Pipeline([\n",
    "    ('feature_extractor', feature_extractor),\n",
    "    ('combined_features', combined_features_tfidf),\n",
    "    ('clf', LogisticRegression(max_iter=1000, class_weight='balanced'))\n",
    "])"
   ]
  },
  {
   "cell_type": "code",
   "execution_count": 12,
   "id": "1b4355e7-415f-4709-814f-5e8050d653c8",
   "metadata": {},
   "outputs": [
    {
     "name": "stdout",
     "output_type": "stream",
     "text": [
      "              precision    recall  f1-score   support\n",
      "\n",
      "         0.0       0.69      0.91      0.79       153\n",
      "         1.0       0.96      0.86      0.91       434\n",
      "\n",
      "    accuracy                           0.87       587\n",
      "   macro avg       0.83      0.88      0.85       587\n",
      "weighted avg       0.89      0.87      0.88       587\n",
      "\n"
     ]
    }
   ],
   "source": [
    "pipeline_tfidf_lr.fit(X, y)\n",
    "y_pred_tfidf_lr = pipeline_tfidf_lr.predict(X)\n",
    "\n",
    "print(classification_report(y, y_pred_tfidf_lr, zero_division=0))"
   ]
  },
  {
   "cell_type": "markdown",
   "id": "147cd70b-2383-4721-a7b2-3365f58cd01c",
   "metadata": {},
   "source": [
    "## TF-IDF + SVD + LightGBM"
   ]
  },
  {
   "cell_type": "code",
   "execution_count": 13,
   "id": "6b676e34-aa00-4602-84ef-bcfb2ce40d4d",
   "metadata": {},
   "outputs": [],
   "source": [
    "text_pipeline_tfidf_svd = Pipeline([\n",
    "    ('select_text', SelectText()),\n",
    "    ('tfidf', TfidfVectorizer()),\n",
    "    ('svd', TruncatedSVD(n_components=100, random_state=42))\n",
    "])\n",
    "\n",
    "combined_features_tfidf_svd = FeatureUnion([\n",
    "    ('structured', structured_pipeline),\n",
    "    ('text', text_pipeline_tfidf_svd)\n",
    "])\n",
    "\n",
    "pipeline_tfidf_svd_lgbm = Pipeline([\n",
    "    ('feature_extractor', feature_extractor),\n",
    "    ('combined_features', combined_features_tfidf_svd),\n",
    "    ('clf', LGBMClassifier(num_leaves=15, max_depth=3, learning_rate=0.05,\n",
    "                           n_estimators=200, class_weight='balanced', random_state=42, verbose=-1))\n",
    "])"
   ]
  },
  {
   "cell_type": "code",
   "execution_count": 14,
   "id": "5b187f14-092c-490d-96a4-318ab5c91dee",
   "metadata": {},
   "outputs": [
    {
     "name": "stdout",
     "output_type": "stream",
     "text": [
      "              precision    recall  f1-score   support\n",
      "\n",
      "         0.0       0.96      1.00      0.98       153\n",
      "         1.0       1.00      0.98      0.99       434\n",
      "\n",
      "    accuracy                           0.99       587\n",
      "   macro avg       0.98      0.99      0.98       587\n",
      "weighted avg       0.99      0.99      0.99       587\n",
      "\n"
     ]
    },
    {
     "name": "stderr",
     "output_type": "stream",
     "text": [
      "C:\\Users\\fernando\\Downloads\\nlp\\venv\\Lib\\site-packages\\sklearn\\utils\\validation.py:2739: UserWarning: X does not have valid feature names, but LGBMClassifier was fitted with feature names\n",
      "  warnings.warn(\n"
     ]
    }
   ],
   "source": [
    "pipeline_tfidf_svd_lgbm.fit(X, y)\n",
    "y_pred_tfidf_svd_lgbm = pipeline_tfidf_svd_lgbm.predict(X)\n",
    "\n",
    "print(classification_report(y, y_pred_tfidf_svd_lgbm))"
   ]
  },
  {
   "cell_type": "markdown",
   "id": "5cc9935a-e068-4f50-877a-54373fd38926",
   "metadata": {},
   "source": [
    "# Second tier"
   ]
  },
  {
   "cell_type": "markdown",
   "id": "5acf60d2-8fdf-4e7a-9a7b-b97153fdfc99",
   "metadata": {},
   "source": [
    "## LSA (TF-IDF + SVD) + Logistic Regression"
   ]
  },
  {
   "cell_type": "code",
   "execution_count": 15,
   "id": "40be949f-7f22-4fa6-aed2-4992921881b0",
   "metadata": {},
   "outputs": [],
   "source": [
    "text_pipeline_lsa = Pipeline([\n",
    "    ('select_text', SelectText()),\n",
    "    ('tfidf', TfidfVectorizer()),\n",
    "    ('svd', TruncatedSVD(n_components=100, random_state=42))\n",
    "])\n",
    "\n",
    "combined_features_lsa = FeatureUnion([\n",
    "    ('structured', structured_pipeline),\n",
    "    ('text', text_pipeline_lsa)\n",
    "])\n",
    "\n",
    "pipeline_lsa_lr = Pipeline([\n",
    "    ('feature_extractor', feature_extractor),\n",
    "    ('combined_features', combined_features_lsa),\n",
    "    ('clf', LogisticRegression(max_iter=1000, class_weight='balanced'))\n",
    "])\n",
    "\n",
    "pipeline_lsa_lr.fit(X, y)\n",
    "y_pred_lsa = pipeline_lsa_lr.predict(X)"
   ]
  },
  {
   "cell_type": "code",
   "execution_count": 16,
   "id": "05d746f2-c052-477a-88d6-5312e06a1ffb",
   "metadata": {},
   "outputs": [
    {
     "name": "stdout",
     "output_type": "stream",
     "text": [
      "              precision    recall  f1-score   support\n",
      "\n",
      "         0.0       0.59      0.81      0.68       153\n",
      "         1.0       0.92      0.80      0.86       434\n",
      "\n",
      "    accuracy                           0.80       587\n",
      "   macro avg       0.76      0.80      0.77       587\n",
      "weighted avg       0.84      0.80      0.81       587\n",
      "\n"
     ]
    }
   ],
   "source": [
    "pipeline_lsa_lr.fit(X, y)\n",
    "y_pred_lsa = pipeline_lsa_lr.predict(X)\n",
    "\n",
    "print(classification_report(y, y_pred_lsa))"
   ]
  },
  {
   "cell_type": "markdown",
   "id": "c07ad413-ffff-412e-8d28-e3a616c47c38",
   "metadata": {},
   "source": [
    "## BERT Sentence Embeddings + Logistic Regression"
   ]
  },
  {
   "cell_type": "code",
   "execution_count": 17,
   "id": "63c6804e-4040-4b68-9c3b-b52346f1e732",
   "metadata": {},
   "outputs": [],
   "source": [
    "# Initialize model (loading the pre-trained Sentence-BERT from HuggingFace)\n",
    "model_bert_ls = SentenceBertStructuredLRClassifier(\n",
    "    sentence_model_name_or_path='paraphrase-MiniLM-L6-v2',\n",
    "    preprocessor=feature_extractor_bert\n",
    ")\n",
    "\n",
    "# Fit\n",
    "model_bert_ls.fit(X, y)"
   ]
  },
  {
   "cell_type": "code",
   "execution_count": 18,
   "id": "14b54b63-b4c7-4e9a-aaf8-bb60102ef230",
   "metadata": {},
   "outputs": [
    {
     "name": "stdout",
     "output_type": "stream",
     "text": [
      "              precision    recall  f1-score   support\n",
      "\n",
      "         0.0       0.93      1.00      0.96       153\n",
      "         1.0       1.00      0.97      0.99       434\n",
      "\n",
      "    accuracy                           0.98       587\n",
      "   macro avg       0.96      0.99      0.97       587\n",
      "weighted avg       0.98      0.98      0.98       587\n",
      "\n"
     ]
    }
   ],
   "source": [
    "y_pred_bert_ls = model_bert_ls.predict(X)\n",
    "\n",
    "print(classification_report(y, y_pred_bert_ls))"
   ]
  },
  {
   "cell_type": "code",
   "execution_count": 19,
   "id": "f7e15314-8919-4839-8557-d424814d8df8",
   "metadata": {},
   "outputs": [],
   "source": [
    "# Save everything\n",
    "model_bert_ls.save('models/bert_sentence_lr')"
   ]
  },
  {
   "cell_type": "markdown",
   "id": "3acc4845-db96-44e3-ab2f-9cee6b6c953f",
   "metadata": {},
   "source": [
    "# Third tier"
   ]
  },
  {
   "cell_type": "markdown",
   "id": "16c8b16a-a8db-4204-b712-34b0c2dd8e80",
   "metadata": {},
   "source": [
    "## Fine-tuned bert"
   ]
  },
  {
   "cell_type": "code",
   "execution_count": 26,
   "id": "db2518df-cf3a-48ad-bd4f-8c2da95aa509",
   "metadata": {},
   "outputs": [
    {
     "name": "stderr",
     "output_type": "stream",
     "text": [
      "Some weights of BertForSequenceClassification were not initialized from the model checkpoint at bert-base-uncased and are newly initialized: ['classifier.bias', 'classifier.weight']\n",
      "You should probably TRAIN this model on a down-stream task to be able to use it for predictions and inference.\n"
     ]
    }
   ],
   "source": [
    "bert_clf = FineTunedBertClassifier('bert-base-uncased')\n",
    "bert_clf.fit(X, y, epochs=3)\n",
    "# bert_clf.save('models/bert_finetuned_model')"
   ]
  },
  {
   "cell_type": "code",
   "execution_count": 27,
   "id": "1349d454-7009-4a1b-936b-bfca23fcbb99",
   "metadata": {},
   "outputs": [],
   "source": [
    "bert_clf.save('models/bert_finetuned_model')"
   ]
  },
  {
   "cell_type": "code",
   "execution_count": 28,
   "id": "a2a9209d-a57b-4e88-aff9-3d5e1237a185",
   "metadata": {},
   "outputs": [
    {
     "name": "stdout",
     "output_type": "stream",
     "text": [
      "              precision    recall  f1-score   support\n",
      "\n",
      "         0.0       0.99      0.97      0.98       153\n",
      "         1.0       0.99      1.00      0.99       434\n",
      "\n",
      "    accuracy                           0.99       587\n",
      "   macro avg       0.99      0.98      0.99       587\n",
      "weighted avg       0.99      0.99      0.99       587\n",
      "\n"
     ]
    }
   ],
   "source": [
    "y_pred_bert_clf = bert_clf.predict(X)\n",
    "\n",
    "print(classification_report(y, y_pred_bert_clf))"
   ]
  },
  {
   "cell_type": "markdown",
   "id": "a60da907-0dcf-40dd-823d-cc7ee9976c90",
   "metadata": {},
   "source": [
    "# Save models"
   ]
  },
  {
   "cell_type": "code",
   "execution_count": 29,
   "id": "0c24c0e0-2800-42c8-a019-4082558a3fa2",
   "metadata": {},
   "outputs": [],
   "source": [
    "joblib.dump(pipeline_bow_lr, 'models/pipeline_bow_lr.joblib')\n",
    "joblib.dump(pipeline_tfidf_lr, 'models/pipeline_tfidf_lr.joblib')\n",
    "joblib.dump(pipeline_tfidf_svd_lgbm, 'models/pipeline_tfidf_svd_lgbm.joblib')\n",
    "joblib.dump(pipeline_lsa_lr, 'models/pipeline_lsa_lr.joblib')\n",
    "joblib.dump(pipeline_dummy, 'models/pipeline_dummy.joblib')\n",
    "model_bert_ls.save('models/bert_sentence_lr')\n",
    "bert_clf.save('models/bert_finetuned_model')"
   ]
  },
  {
   "cell_type": "markdown",
   "id": "dfedb9be-ae30-4115-8abf-72b26c3868c1",
   "metadata": {},
   "source": [
    "# Load models"
   ]
  },
  {
   "cell_type": "code",
   "execution_count": null,
   "id": "2cac9496-edac-4747-b1c7-224a34902c02",
   "metadata": {},
   "outputs": [],
   "source": [
    "pipeline_bow_lr = joblib.load('models/pipeline_bow_lr.joblib')\n",
    "pipeline_tfidf_lr = joblib.load('models/pipeline_tfidf_lr.joblib')\n",
    "pipeline_tfidf_svd_lgbm = joblib.load('models/pipeline_tfidf_svd_lgbm.joblib')\n",
    "pipeline_lsa_lr = joblib.load('models/pipeline_lsa_lr.joblib')\n",
    "pipeline_dummy = joblib.load('models/pipeline_dummy.joblib')"
   ]
  },
  {
   "cell_type": "code",
   "execution_count": null,
   "id": "3905230d-264b-4328-86b3-0726f94313ee",
   "metadata": {},
   "outputs": [],
   "source": [
    "model_bert_ls_loaded = load_sentence_bert_lr('models/bert_sentence_lr', preprocessor=feature_extractor_bert)\n",
    "bert_clf_loaded = FineTunedBertClassifier.load('models/bert_finetuned_model')"
   ]
  }
 ],
 "metadata": {
  "kernelspec": {
   "display_name": "NLP venv",
   "language": "python",
   "name": "nlp_venv"
  },
  "language_info": {
   "codemirror_mode": {
    "name": "ipython",
    "version": 3
   },
   "file_extension": ".py",
   "mimetype": "text/x-python",
   "name": "python",
   "nbconvert_exporter": "python",
   "pygments_lexer": "ipython3",
   "version": "3.12.7"
  }
 },
 "nbformat": 4,
 "nbformat_minor": 5
}
