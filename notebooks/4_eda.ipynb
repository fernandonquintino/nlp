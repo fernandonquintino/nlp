{
 "cells": [
  {
   "cell_type": "code",
   "execution_count": 1,
   "id": "a379c04d-82ad-43c1-9041-2ff5dc56d969",
   "metadata": {},
   "outputs": [],
   "source": [
    "%load_ext autoreload\n",
    "%autoreload 2"
   ]
  },
  {
   "cell_type": "code",
   "execution_count": 2,
   "id": "e6ab008f-548c-43b8-9b02-c4bfe756dae2",
   "metadata": {},
   "outputs": [],
   "source": [
    "import os\n",
    "os.chdir('../')"
   ]
  },
  {
   "cell_type": "code",
   "execution_count": 3,
   "id": "4bface18-0b08-4538-a5b7-971433e996c6",
   "metadata": {},
   "outputs": [],
   "source": [
    "import sys\n",
    "import pandas as pd\n",
    "import numpy as np\n",
    "import seaborn as sns\n",
    "import matplotlib.pyplot as plt\n",
    "from collections import Counter\n",
    "\n",
    "from sklearn.feature_extraction.text import CountVectorizer\n",
    "from symspellpy.symspellpy import SymSpell\n",
    "from nltk.collocations import BigramCollocationFinder\n",
    "from nltk.metrics import BigramAssocMeasures\n",
    "from nltk.sentiment import SentimentIntensityAnalyzer\n",
    "\n",
    "from src.llm_preprocessing import generate_bigram_decision"
   ]
  },
  {
   "cell_type": "code",
   "execution_count": 4,
   "id": "09b320a2-8dca-49f5-be0a-cc0a91031ab9",
   "metadata": {},
   "outputs": [],
   "source": [
    "pd.set_option('display.max_rows', 30)\n",
    "pd.set_option('display.max_colwidth', None)"
   ]
  },
  {
   "cell_type": "code",
   "execution_count": 5,
   "id": "e5301b81-54e2-4fff-8f3e-9db26bd4112f",
   "metadata": {},
   "outputs": [
    {
     "data": {
      "text/plain": [
       "True"
      ]
     },
     "execution_count": 5,
     "metadata": {},
     "output_type": "execute_result"
    }
   ],
   "source": [
    "sym_spell = SymSpell(max_dictionary_edit_distance=2, prefix_length=7)\n",
    "dictionary_path = 'data/dictionaries/frequency_dictionary_en_82_765.txt'\n",
    "sym_spell.load_dictionary(dictionary_path, term_index=0, count_index=1)"
   ]
  },
  {
   "cell_type": "code",
   "execution_count": 6,
   "id": "733fb756-28e9-48ce-b464-0dbadcc443dd",
   "metadata": {},
   "outputs": [],
   "source": [
    "df_pre_eda = pd.read_csv('data/processed/preprocessed_train.csv')\n",
    "df = df_pre_eda.copy()"
   ]
  },
  {
   "cell_type": "code",
   "execution_count": 7,
   "id": "57122faa-c45b-4ac5-9dcd-3a2de782899e",
   "metadata": {},
   "outputs": [
    {
     "name": "stdout",
     "output_type": "stream",
     "text": [
      "<class 'pandas.core.frame.DataFrame'>\n",
      "RangeIndex: 587 entries, 0 to 586\n",
      "Data columns (total 6 columns):\n",
      " #   Column             Non-Null Count  Dtype  \n",
      "---  ------             --------------  -----  \n",
      " 0   text               587 non-null    object \n",
      " 1   target             587 non-null    float64\n",
      " 2   has_number         587 non-null    bool   \n",
      " 3   has_rating_number  587 non-null    bool   \n",
      " 4   final_text         586 non-null    object \n",
      " 5   bert_text          587 non-null    object \n",
      "dtypes: bool(2), float64(1), object(3)\n",
      "memory usage: 19.6+ KB\n"
     ]
    }
   ],
   "source": [
    "df.info()"
   ]
  },
  {
   "cell_type": "code",
   "execution_count": 8,
   "id": "aac0d34f-3414-4896-9856-ebda2c01f7df",
   "metadata": {},
   "outputs": [
    {
     "data": {
      "text/html": [
       "<div>\n",
       "<style scoped>\n",
       "    .dataframe tbody tr th:only-of-type {\n",
       "        vertical-align: middle;\n",
       "    }\n",
       "\n",
       "    .dataframe tbody tr th {\n",
       "        vertical-align: top;\n",
       "    }\n",
       "\n",
       "    .dataframe thead th {\n",
       "        text-align: right;\n",
       "    }\n",
       "</style>\n",
       "<table border=\"1\" class=\"dataframe\">\n",
       "  <thead>\n",
       "    <tr style=\"text-align: right;\">\n",
       "      <th></th>\n",
       "      <th>text</th>\n",
       "      <th>target</th>\n",
       "      <th>has_number</th>\n",
       "      <th>has_rating_number</th>\n",
       "      <th>final_text</th>\n",
       "      <th>bert_text</th>\n",
       "    </tr>\n",
       "  </thead>\n",
       "  <tbody>\n",
       "    <tr>\n",
       "      <th>0</th>\n",
       "      <td>judging from previous posts this used to be a good place , but not any longer .</td>\n",
       "      <td>0.0</td>\n",
       "      <td>False</td>\n",
       "      <td>False</td>\n",
       "      <td>judge previous post use good place long</td>\n",
       "      <td>judging from previous posts this used to be a good place , but not any longer .</td>\n",
       "    </tr>\n",
       "    <tr>\n",
       "      <th>1</th>\n",
       "      <td>we , there were four of us , arrived at noon - the place was empty - and the staff acted like we were imposing on them and they were very rude .</td>\n",
       "      <td>0.0</td>\n",
       "      <td>False</td>\n",
       "      <td>False</td>\n",
       "      <td>four arrive noon place empty staff act like impose rude</td>\n",
       "      <td>we , there were four of us , arrived at noon - the place was empty - and the staff acted like we were imposing on them and they were very rude .</td>\n",
       "    </tr>\n",
       "    <tr>\n",
       "      <th>2</th>\n",
       "      <td>they never brought us complimentary noodles , ignored repeated requests for sugar , and threw our dishes on the table .</td>\n",
       "      <td>0.0</td>\n",
       "      <td>False</td>\n",
       "      <td>False</td>\n",
       "      <td>never bring complimentary noodle ignore repeat request sugar throw dish table</td>\n",
       "      <td>they never brought us complimentary noodles , ignored repeated requests for sugar , and threw our dishes on the table .</td>\n",
       "    </tr>\n",
       "    <tr>\n",
       "      <th>3</th>\n",
       "      <td>the food was lousy - too sweet or too salty and the portions tiny .</td>\n",
       "      <td>0.0</td>\n",
       "      <td>False</td>\n",
       "      <td>False</td>\n",
       "      <td>food lousy sweet salty portion tiny</td>\n",
       "      <td>the food was lousy - too sweet or too salty and the portions tiny .</td>\n",
       "    </tr>\n",
       "    <tr>\n",
       "      <th>4</th>\n",
       "      <td>after all that , they complained to me about the small tip .</td>\n",
       "      <td>0.0</td>\n",
       "      <td>False</td>\n",
       "      <td>False</td>\n",
       "      <td>complain small tip</td>\n",
       "      <td>after all that , they complained to me about the small tip .</td>\n",
       "    </tr>\n",
       "  </tbody>\n",
       "</table>\n",
       "</div>"
      ],
      "text/plain": [
       "                                                                                                                                               text  \\\n",
       "0                                                                   judging from previous posts this used to be a good place , but not any longer .   \n",
       "1  we , there were four of us , arrived at noon - the place was empty - and the staff acted like we were imposing on them and they were very rude .   \n",
       "2                           they never brought us complimentary noodles , ignored repeated requests for sugar , and threw our dishes on the table .   \n",
       "3                                                                               the food was lousy - too sweet or too salty and the portions tiny .   \n",
       "4                                                                                      after all that , they complained to me about the small tip .   \n",
       "\n",
       "   target  has_number  has_rating_number  \\\n",
       "0     0.0       False              False   \n",
       "1     0.0       False              False   \n",
       "2     0.0       False              False   \n",
       "3     0.0       False              False   \n",
       "4     0.0       False              False   \n",
       "\n",
       "                                                                      final_text  \\\n",
       "0                                        judge previous post use good place long   \n",
       "1                        four arrive noon place empty staff act like impose rude   \n",
       "2  never bring complimentary noodle ignore repeat request sugar throw dish table   \n",
       "3                                            food lousy sweet salty portion tiny   \n",
       "4                                                             complain small tip   \n",
       "\n",
       "                                                                                                                                          bert_text  \n",
       "0                                                                   judging from previous posts this used to be a good place , but not any longer .  \n",
       "1  we , there were four of us , arrived at noon - the place was empty - and the staff acted like we were imposing on them and they were very rude .  \n",
       "2                           they never brought us complimentary noodles , ignored repeated requests for sugar , and threw our dishes on the table .  \n",
       "3                                                                               the food was lousy - too sweet or too salty and the portions tiny .  \n",
       "4                                                                                      after all that , they complained to me about the small tip .  "
      ]
     },
     "execution_count": 8,
     "metadata": {},
     "output_type": "execute_result"
    }
   ],
   "source": [
    "df.head(5)"
   ]
  },
  {
   "cell_type": "code",
   "execution_count": 9,
   "id": "38281b52-2cd8-4b20-bc98-e7cca03692f0",
   "metadata": {},
   "outputs": [
    {
     "data": {
      "text/html": [
       "<div>\n",
       "<style scoped>\n",
       "    .dataframe tbody tr th:only-of-type {\n",
       "        vertical-align: middle;\n",
       "    }\n",
       "\n",
       "    .dataframe tbody tr th {\n",
       "        vertical-align: top;\n",
       "    }\n",
       "\n",
       "    .dataframe thead th {\n",
       "        text-align: right;\n",
       "    }\n",
       "</style>\n",
       "<table border=\"1\" class=\"dataframe\">\n",
       "  <thead>\n",
       "    <tr style=\"text-align: right;\">\n",
       "      <th></th>\n",
       "      <th>text</th>\n",
       "      <th>target</th>\n",
       "      <th>has_number</th>\n",
       "      <th>has_rating_number</th>\n",
       "      <th>final_text</th>\n",
       "      <th>bert_text</th>\n",
       "    </tr>\n",
       "  </thead>\n",
       "  <tbody>\n",
       "    <tr>\n",
       "      <th>415</th>\n",
       "      <td>10</td>\n",
       "      <td>1.0</td>\n",
       "      <td>True</td>\n",
       "      <td>True</td>\n",
       "      <td>NaN</td>\n",
       "      <td>10</td>\n",
       "    </tr>\n",
       "  </tbody>\n",
       "</table>\n",
       "</div>"
      ],
      "text/plain": [
       "    text  target  has_number  has_rating_number final_text bert_text\n",
       "415   10     1.0        True               True        NaN        10"
      ]
     },
     "execution_count": 9,
     "metadata": {},
     "output_type": "execute_result"
    }
   ],
   "source": [
    "df[df['final_text'].isnull()]"
   ]
  },
  {
   "cell_type": "code",
   "execution_count": 10,
   "id": "01769427-744d-4597-b7cf-117bc691e2fb",
   "metadata": {},
   "outputs": [],
   "source": [
    "# Removing the missing value for the EDA\n",
    "df = df.loc[~df['final_text'].isnull()]"
   ]
  },
  {
   "cell_type": "markdown",
   "id": "7a8a4f0b-f88c-4a70-83b2-630d5002f0bf",
   "metadata": {},
   "source": [
    "# EDA"
   ]
  },
  {
   "cell_type": "markdown",
   "id": "a68d3ff1-a446-4d73-8b7f-c17a37552cdf",
   "metadata": {},
   "source": [
    "## Target balance"
   ]
  },
  {
   "cell_type": "code",
   "execution_count": 11,
   "id": "d7621379-94b5-4460-b138-b1ed3040e02a",
   "metadata": {},
   "outputs": [
    {
     "data": {
      "text/plain": [
       "target\n",
       "1.0    0.738908\n",
       "0.0    0.261092\n",
       "Name: proportion, dtype: float64"
      ]
     },
     "execution_count": 11,
     "metadata": {},
     "output_type": "execute_result"
    }
   ],
   "source": [
    "df['target'].value_counts(normalize=True)"
   ]
  },
  {
   "cell_type": "code",
   "execution_count": 12,
   "id": "43c6c230-060e-4308-b6b3-7ddb2dd48c7d",
   "metadata": {},
   "outputs": [
    {
     "data": {
      "text/plain": [
       "<Axes: xlabel='target', ylabel='count'>"
      ]
     },
     "execution_count": 12,
     "metadata": {},
     "output_type": "execute_result"
    },
    {
     "data": {
      "image/png": "[encoded data removed]",
      "text/plain": [
       "<Figure size 640x480 with 1 Axes>"
      ]
     },
     "metadata": {},
     "output_type": "display_data"
    }
   ],
   "source": [
    "sns.countplot(x=\"target\", data=df, hue='target', palette=[\"red\", \"green\"])"
   ]
  },
  {
   "cell_type": "markdown",
   "id": "a5bacc2e-c3a8-49a0-91b9-548a61895b03",
   "metadata": {},
   "source": [
    "### Top words"
   ]
  },
  {
   "cell_type": "code",
   "execution_count": 13,
   "id": "7a39ee1c-c4eb-4e4c-bd06-9754241fadd3",
   "metadata": {},
   "outputs": [
    {
     "name": "stdout",
     "output_type": "stream",
     "text": [
      "\n",
      "Top words for class 0:\n",
      "[('food', 22), ('place', 18), ('service', 16), ('good', 15), ('restaurant', 13), ('go', 13), ('!', 11), ('time', 11), ('get', 11), ('back', 10), ('eat', 10), ('like', 9), ('table', 9), ('make', 9), ('bad', 9), ('order', 9), ('rude', 8), ('ask', 8), ('thing', 8), ('thai', 7)]\n",
      "\n",
      "Top words for class 1:\n",
      "[('food', 79), ('!', 71), ('great', 67), ('good', 66), ('service', 52), ('place', 43), ('go', 39), ('restaurant', 34), ('delicious', 29), ('recommend', 26), ('always', 24), ('price', 23), ('excellent', 22), ('try', 20), ('pizza', 20), ('well', 19), ('get', 19), ('wine', 18), ('nice', 18), ('time', 16)]\n"
     ]
    }
   ],
   "source": [
    "def get_top_words(data, n=20):\n",
    "    all_words = \" \".join(data).split()\n",
    "    return Counter(all_words).most_common(n)\n",
    "\n",
    "print(\"\\nTop words for class 0:\")\n",
    "print(get_top_words(df[df['target'] == 0]['final_text']))\n",
    "\n",
    "print(\"\\nTop words for class 1:\")\n",
    "print(get_top_words(df[df['target'] == 1]['final_text']))"
   ]
  },
  {
   "cell_type": "code",
   "execution_count": 14,
   "id": "8ee821d8-7b61-4882-92fd-fc37e1d6b97a",
   "metadata": {},
   "outputs": [],
   "source": [
    "def plot_top_words_side_by_side_normalized(counter_0, counter_1, total_words_0, total_words_1, title_0='Class 0', title_1='Class 1'):\n",
    "    # Normalize\n",
    "    freq_df_0 = pd.DataFrame(counter_0, columns=['word', 'count'])\n",
    "    freq_df_0['freq_percent'] = freq_df_0['count'] / total_words_0 * 100\n",
    "\n",
    "    freq_df_1 = pd.DataFrame(counter_1, columns=['word', 'count'])\n",
    "    freq_df_1['freq_percent'] = freq_df_1['count'] / total_words_1 * 100\n",
    "\n",
    "    fig, axes = plt.subplots(1, 2, figsize=(15,6), sharey=True)\n",
    "\n",
    "    axes[0].bar(freq_df_0['word'], freq_df_0['freq_percent'])\n",
    "    axes[0].set_title(title_0)\n",
    "    axes[0].tick_params(axis='x', rotation=45)\n",
    "    axes[0].set_ylabel('Frequency (%)')\n",
    "\n",
    "    axes[1].bar(freq_df_1['word'], freq_df_1['freq_percent'])\n",
    "    axes[1].set_title(title_1)\n",
    "    axes[1].tick_params(axis='x', rotation=45)\n",
    "\n",
    "    plt.tight_layout()\n",
    "    plt.show()"
   ]
  },
  {
   "cell_type": "code",
   "execution_count": 15,
   "id": "a19c74be-d5d5-4ec7-9f28-cca2aa31f274",
   "metadata": {},
   "outputs": [
    {
     "data": {
      "image/png": "[encoded data removed]",
      "text/plain": [
       "<Figure size 1500x600 with 2 Axes>"
      ]
     },
     "metadata": {},
     "output_type": "display_data"
    }
   ],
   "source": [
    "# Total words per class (for normalization)\n",
    "\n",
    "top_words_0 = get_top_words(df[df['target'] == 0]['final_text'])\n",
    "top_words_1 = get_top_words(df[df['target'] == 1]['final_text'])\n",
    "\n",
    "total_words_0 = df[df['target'] == 0]['final_text'].apply(lambda x: len(x.split())).sum()\n",
    "total_words_1 = df[df['target'] == 1]['final_text'].apply(lambda x: len(x.split())).sum()\n",
    "\n",
    "plot_top_words_side_by_side_normalized(\n",
    "    top_words_0, top_words_1,\n",
    "    total_words_0, total_words_1,\n",
    "    'Top Words - Class 0 (Normalized)', 'Top Words - Class 1 (Normalized)'\n",
    ")"
   ]
  },
  {
   "cell_type": "markdown",
   "id": "7c757415-bdca-448b-8123-3f3b0092eaed",
   "metadata": {},
   "source": [
    "Distribution shows that words like food, place and service are important for both classes. Those words are important drivers, but alone they dont say much. Bigram analysis should provide better insights"
   ]
  },
  {
   "cell_type": "markdown",
   "id": "eed9152d-8383-4606-af0d-ede12c5b14be",
   "metadata": {},
   "source": [
    "### Bigrams - CountVectorizer"
   ]
  },
  {
   "cell_type": "code",
   "execution_count": 16,
   "id": "574a7ef1-1855-4fb9-9c26-c931e3371572",
   "metadata": {},
   "outputs": [],
   "source": [
    "n_max = 20"
   ]
  },
  {
   "cell_type": "code",
   "execution_count": 17,
   "id": "ac867046-9e22-446f-a57a-9e68a4be9639",
   "metadata": {},
   "outputs": [],
   "source": [
    "# Example for bigrams (2-grams)\n",
    "vectorizer = CountVectorizer(ngram_range=(2,2), max_features=n_max)\n",
    "X_ngrams = vectorizer.fit_transform(df['final_text'])\n",
    "\n",
    "# Show most common bigrams\n",
    "bigrams = vectorizer.get_feature_names_out()\n",
    "counts = X_ngrams.sum(axis=0).A1\n",
    "bigrams_freq = sorted(zip(bigrams, counts), key=lambda x: x[1], reverse=True)"
   ]
  },
  {
   "cell_type": "code",
   "execution_count": 18,
   "id": "ee8b15d0-3b8b-483c-a57a-920f991dc611",
   "metadata": {},
   "outputs": [],
   "source": [
    "def get_top_ngrams(corpus, ngram_range=(2,2), top_n=n_max):\n",
    "    vectorizer = CountVectorizer(ngram_range=ngram_range, max_features=10000)\n",
    "    X_ngrams = vectorizer.fit_transform(corpus)\n",
    "    ngrams = vectorizer.get_feature_names_out()\n",
    "    counts = X_ngrams.sum(axis=0).A1\n",
    "    return sorted(zip(ngrams, counts), key=lambda x: x[1], reverse=True)[:top_n]"
   ]
  },
  {
   "cell_type": "code",
   "execution_count": 19,
   "id": "33869dd5-7d87-484b-ad08-28454a955c7b",
   "metadata": {},
   "outputs": [],
   "source": [
    "def plot_top_ngrams_side_by_side(ngrams_0, ngrams_1, title_0='Class 0', title_1='Class 1'):\n",
    "    df_0 = pd.DataFrame(ngrams_0, columns=['ngram', 'count'])\n",
    "    df_1 = pd.DataFrame(ngrams_1, columns=['ngram', 'count'])\n",
    "    \n",
    "    fig, axes = plt.subplots(1, 2, figsize=(15,6), sharey=True)\n",
    "    \n",
    "    axes[0].bar(df_0['ngram'], df_0['count'])\n",
    "    axes[0].set_title(title_0)\n",
    "    axes[0].tick_params(axis='x', rotation=45)\n",
    "    axes[0].set_ylabel('Frequency')\n",
    "\n",
    "    axes[1].bar(df_1['ngram'], df_1['count'])\n",
    "    axes[1].set_title(title_1)\n",
    "    axes[1].tick_params(axis='x', rotation=45)\n",
    "\n",
    "    plt.tight_layout()\n",
    "    plt.show()"
   ]
  },
  {
   "cell_type": "code",
   "execution_count": 20,
   "id": "5152e078-fac6-4e66-b46d-e67fb629635a",
   "metadata": {},
   "outputs": [],
   "source": [
    "# Get top 20 bigrams for each class\n",
    "top_ngrams_0 = get_top_ngrams(df[df['target'] == 0]['final_text'], top_n=n_max)\n",
    "top_ngrams_1 = get_top_ngrams(df[df['target'] == 1]['final_text'], top_n=n_max)\n",
    "\n",
    "# Convert to DataFrames\n",
    "df_ngrams_0 = pd.DataFrame(top_ngrams_0, columns=['bigram_0', 'frequency_0'])\n",
    "df_ngrams_1 = pd.DataFrame(top_ngrams_1, columns=['bigram_1', 'frequency_1'])\n",
    "\n",
    "# Combine side by side (reset index to align properly)\n",
    "df_bigrams_combined_cv = pd.concat([df_ngrams_0.reset_index(drop=True), df_ngrams_1.reset_index(drop=True)], axis=1)"
   ]
  },
  {
   "cell_type": "code",
   "execution_count": 21,
   "id": "3868e8b6-c581-4556-8b46-e582e472b70d",
   "metadata": {},
   "outputs": [
    {
     "data": {
      "image/png": "[encoded data removed]",
      "text/plain": [
       "<Figure size 1500x600 with 2 Axes>"
      ]
     },
     "metadata": {},
     "output_type": "display_data"
    }
   ],
   "source": [
    "top_bigrams_0 = get_top_ngrams(df[df['target'] == 0]['final_text'])\n",
    "top_bigrams_1 = get_top_ngrams(df[df['target'] == 1]['final_text'])\n",
    "\n",
    "plot_top_ngrams_side_by_side(top_bigrams_0, top_bigrams_1, 'Top Bigrams - Class 0', 'Top Bigrams - Class 1')"
   ]
  },
  {
   "cell_type": "code",
   "execution_count": 22,
   "id": "72598adc-5d8c-4313-b574-6adf39d692a2",
   "metadata": {},
   "outputs": [
    {
     "data": {
      "text/html": [
       "<div>\n",
       "<style scoped>\n",
       "    .dataframe tbody tr th:only-of-type {\n",
       "        vertical-align: middle;\n",
       "    }\n",
       "\n",
       "    .dataframe tbody tr th {\n",
       "        vertical-align: top;\n",
       "    }\n",
       "\n",
       "    .dataframe thead th {\n",
       "        text-align: right;\n",
       "    }\n",
       "</style>\n",
       "<table border=\"1\" class=\"dataframe\">\n",
       "  <thead>\n",
       "    <tr style=\"text-align: right;\">\n",
       "      <th></th>\n",
       "      <th>bigram_0</th>\n",
       "      <th>frequency_0</th>\n",
       "      <th>bigram_1</th>\n",
       "      <th>frequency_1</th>\n",
       "    </tr>\n",
       "  </thead>\n",
       "  <tbody>\n",
       "    <tr>\n",
       "      <th>0</th>\n",
       "      <td>go back</td>\n",
       "      <td>4</td>\n",
       "      <td>highly recommend</td>\n",
       "      <td>14</td>\n",
       "    </tr>\n",
       "    <tr>\n",
       "      <th>1</th>\n",
       "      <td>never go</td>\n",
       "      <td>3</td>\n",
       "      <td>go back</td>\n",
       "      <td>9</td>\n",
       "    </tr>\n",
       "    <tr>\n",
       "      <th>2</th>\n",
       "      <td>average good</td>\n",
       "      <td>2</td>\n",
       "      <td>great food</td>\n",
       "      <td>9</td>\n",
       "    </tr>\n",
       "    <tr>\n",
       "      <th>3</th>\n",
       "      <td>bad service</td>\n",
       "      <td>2</td>\n",
       "      <td>food delicious</td>\n",
       "      <td>7</td>\n",
       "    </tr>\n",
       "    <tr>\n",
       "      <th>4</th>\n",
       "      <td>bad sushi</td>\n",
       "      <td>2</td>\n",
       "      <td>new york</td>\n",
       "      <td>7</td>\n",
       "    </tr>\n",
       "  </tbody>\n",
       "</table>\n",
       "</div>"
      ],
      "text/plain": [
       "       bigram_0  frequency_0          bigram_1  frequency_1\n",
       "0       go back            4  highly recommend           14\n",
       "1      never go            3           go back            9\n",
       "2  average good            2        great food            9\n",
       "3   bad service            2    food delicious            7\n",
       "4     bad sushi            2          new york            7"
      ]
     },
     "execution_count": 22,
     "metadata": {},
     "output_type": "execute_result"
    }
   ],
   "source": [
    "df_bigrams_combined_cv.head()"
   ]
  },
  {
   "cell_type": "markdown",
   "id": "eef4030b-09b0-4a4e-8f73-bf86324c6e10",
   "metadata": {},
   "source": [
    "### Bigrams - CollocationFinder"
   ]
  },
  {
   "cell_type": "code",
   "execution_count": 23,
   "id": "2e3de846-17f3-4ec9-a5d6-2d4af933476f",
   "metadata": {},
   "outputs": [],
   "source": [
    "min_freq = 2"
   ]
  },
  {
   "cell_type": "code",
   "execution_count": 24,
   "id": "bc9fcfec-1d71-405f-bafe-78d74f7c167b",
   "metadata": {},
   "outputs": [],
   "source": [
    "def get_pmi_bigrams_df(text_list, top_n=n_max, min_freq=min_freq):\n",
    "    words = \" \".join(text_list).split()\n",
    "    finder = BigramCollocationFinder.from_words(words)\n",
    "    finder.apply_freq_filter(min_freq)\n",
    "    \n",
    "    bigrams_pmi = []\n",
    "    for bigram, freq in finder.ngram_fd.items():\n",
    "        pmi_score = finder.score_ngram(BigramAssocMeasures().pmi, bigram[0], bigram[1])\n",
    "        bigrams_pmi.append((f\"{bigram[0]} {bigram[1]}\", freq, pmi_score))\n",
    "    \n",
    "    df_pmi = pd.DataFrame(bigrams_pmi, columns=['bigram', 'frequency', 'pmi_score'])\n",
    "    df_pmi = df_pmi.sort_values(by='pmi_score', ascending=False).head(top_n).reset_index(drop=True)\n",
    "    \n",
    "    return df_pmi"
   ]
  },
  {
   "cell_type": "code",
   "execution_count": 25,
   "id": "761cea81-e835-442e-a92f-b1f031adbc90",
   "metadata": {},
   "outputs": [
    {
     "data": {
      "text/html": [
       "<div>\n",
       "<style scoped>\n",
       "    .dataframe tbody tr th:only-of-type {\n",
       "        vertical-align: middle;\n",
       "    }\n",
       "\n",
       "    .dataframe tbody tr th {\n",
       "        vertical-align: top;\n",
       "    }\n",
       "\n",
       "    .dataframe thead th {\n",
       "        text-align: right;\n",
       "    }\n",
       "</style>\n",
       "<table border=\"1\" class=\"dataframe\">\n",
       "  <thead>\n",
       "    <tr style=\"text-align: right;\">\n",
       "      <th></th>\n",
       "      <th>bigram_0</th>\n",
       "      <th>frequency_0</th>\n",
       "      <th>pmi_score_0</th>\n",
       "      <th>bigram_1</th>\n",
       "      <th>frequency_1</th>\n",
       "      <th>pmi_score_1</th>\n",
       "    </tr>\n",
       "  </thead>\n",
       "  <tbody>\n",
       "    <tr>\n",
       "      <th>0</th>\n",
       "      <td>fancy ingredient</td>\n",
       "      <td>2.0</td>\n",
       "      <td>9.038919</td>\n",
       "      <td>smith street</td>\n",
       "      <td>2</td>\n",
       "      <td>10.394999</td>\n",
       "    </tr>\n",
       "    <tr>\n",
       "      <th>1</th>\n",
       "      <td>wine list</td>\n",
       "      <td>2.0</td>\n",
       "      <td>9.038919</td>\n",
       "      <td>dal bukhara</td>\n",
       "      <td>2</td>\n",
       "      <td>10.394999</td>\n",
       "    </tr>\n",
       "    <tr>\n",
       "      <th>2</th>\n",
       "      <td>chow fun</td>\n",
       "      <td>2.0</td>\n",
       "      <td>8.453956</td>\n",
       "      <td>jekyll hyde</td>\n",
       "      <td>2</td>\n",
       "      <td>10.394999</td>\n",
       "    </tr>\n",
       "    <tr>\n",
       "      <th>3</th>\n",
       "      <td>big disappointment</td>\n",
       "      <td>2.0</td>\n",
       "      <td>7.868994</td>\n",
       "      <td>pleasantly surprised</td>\n",
       "      <td>2</td>\n",
       "      <td>10.394999</td>\n",
       "    </tr>\n",
       "    <tr>\n",
       "      <th>4</th>\n",
       "      <td>bland oily</td>\n",
       "      <td>2.0</td>\n",
       "      <td>7.453956</td>\n",
       "      <td>red eye</td>\n",
       "      <td>2</td>\n",
       "      <td>9.810036</td>\n",
       "    </tr>\n",
       "  </tbody>\n",
       "</table>\n",
       "</div>"
      ],
      "text/plain": [
       "             bigram_0  frequency_0  pmi_score_0              bigram_1  \\\n",
       "0    fancy ingredient          2.0     9.038919          smith street   \n",
       "1           wine list          2.0     9.038919           dal bukhara   \n",
       "2            chow fun          2.0     8.453956           jekyll hyde   \n",
       "3  big disappointment          2.0     7.868994  pleasantly surprised   \n",
       "4          bland oily          2.0     7.453956               red eye   \n",
       "\n",
       "   frequency_1  pmi_score_1  \n",
       "0            2    10.394999  \n",
       "1            2    10.394999  \n",
       "2            2    10.394999  \n",
       "3            2    10.394999  \n",
       "4            2     9.810036  "
      ]
     },
     "execution_count": 25,
     "metadata": {},
     "output_type": "execute_result"
    }
   ],
   "source": [
    "# Get PMI bigram tables for both classes\n",
    "df_pmi_0 = get_pmi_bigrams_df(df[df['target'] == 0]['final_text'], top_n=n_max, min_freq=min_freq)\n",
    "df_pmi_1 = get_pmi_bigrams_df(df[df['target'] == 1]['final_text'], top_n=n_max, min_freq=min_freq)\n",
    "\n",
    "# Rename columns for clarity\n",
    "df_pmi_0.columns = [f\"{col}_0\" for col in df_pmi_0.columns]\n",
    "df_pmi_1.columns = [f\"{col}_1\" for col in df_pmi_1.columns]\n",
    "\n",
    "# Combine side by side\n",
    "df_pmi_combined = pd.concat([df_pmi_0, df_pmi_1], axis=1)\n",
    "\n",
    "df_pmi_combined.head()"
   ]
  },
  {
   "cell_type": "markdown",
   "id": "c01ed631-12cb-4152-b308-2eb486555294",
   "metadata": {},
   "source": [
    "### Bigram - combined"
   ]
  },
  {
   "cell_type": "code",
   "execution_count": 26,
   "id": "c3a36b8c-70e1-4ff5-ba1c-8c9cb5ec5dae",
   "metadata": {},
   "outputs": [
    {
     "data": {
      "text/html": [
       "<div>\n",
       "<style scoped>\n",
       "    .dataframe tbody tr th:only-of-type {\n",
       "        vertical-align: middle;\n",
       "    }\n",
       "\n",
       "    .dataframe tbody tr th {\n",
       "        vertical-align: top;\n",
       "    }\n",
       "\n",
       "    .dataframe thead th {\n",
       "        text-align: right;\n",
       "    }\n",
       "</style>\n",
       "<table border=\"1\" class=\"dataframe\">\n",
       "  <thead>\n",
       "    <tr style=\"text-align: right;\">\n",
       "      <th></th>\n",
       "      <th>bigram</th>\n",
       "      <th>frequency_x</th>\n",
       "      <th>frequency_y</th>\n",
       "      <th>pmi_score</th>\n",
       "    </tr>\n",
       "  </thead>\n",
       "  <tbody>\n",
       "    <tr>\n",
       "      <th>0</th>\n",
       "      <td>dal bukhara</td>\n",
       "      <td>NaN</td>\n",
       "      <td>2.0</td>\n",
       "      <td>10.870750</td>\n",
       "    </tr>\n",
       "    <tr>\n",
       "      <th>1</th>\n",
       "      <td>jekyll hyde</td>\n",
       "      <td>NaN</td>\n",
       "      <td>2.0</td>\n",
       "      <td>10.870750</td>\n",
       "    </tr>\n",
       "    <tr>\n",
       "      <th>2</th>\n",
       "      <td>pleasantly surprised</td>\n",
       "      <td>NaN</td>\n",
       "      <td>2.0</td>\n",
       "      <td>10.870750</td>\n",
       "    </tr>\n",
       "    <tr>\n",
       "      <th>3</th>\n",
       "      <td>smith street</td>\n",
       "      <td>NaN</td>\n",
       "      <td>2.0</td>\n",
       "      <td>10.870750</td>\n",
       "    </tr>\n",
       "    <tr>\n",
       "      <th>4</th>\n",
       "      <td>red eye</td>\n",
       "      <td>NaN</td>\n",
       "      <td>2.0</td>\n",
       "      <td>10.285788</td>\n",
       "    </tr>\n",
       "  </tbody>\n",
       "</table>\n",
       "</div>"
      ],
      "text/plain": [
       "                 bigram  frequency_x  frequency_y  pmi_score\n",
       "0           dal bukhara          NaN          2.0  10.870750\n",
       "1           jekyll hyde          NaN          2.0  10.870750\n",
       "2  pleasantly surprised          NaN          2.0  10.870750\n",
       "3          smith street          NaN          2.0  10.870750\n",
       "4               red eye          NaN          2.0  10.285788"
      ]
     },
     "execution_count": 26,
     "metadata": {},
     "output_type": "execute_result"
    }
   ],
   "source": [
    "# Get top 50 bigrams by frequency\n",
    "freq_bigrams = get_top_ngrams(df['final_text'], ngram_range=(2,2), top_n=50)\n",
    "df_freq = pd.DataFrame(freq_bigrams, columns=['bigram', 'frequency'])\n",
    "\n",
    "# Get top 50 bigrams by PMI\n",
    "df_pmi = get_pmi_bigrams_df(df['final_text'], top_n=50, min_freq=2)\n",
    "\n",
    "# Merge both on 'bigram' (inner join ensures only common bigrams)\n",
    "df_combined = pd.merge(df_freq, df_pmi, on='bigram', how='outer').sort_values(['pmi_score', 'frequency_x'], ascending=[False, False]).reset_index(drop=True)\n",
    "\n",
    "df_combined.head()"
   ]
  },
  {
   "cell_type": "markdown",
   "id": "bf696a62-7108-4c7f-917c-5b708f517e9b",
   "metadata": {},
   "source": [
    "### Create bigram list"
   ]
  },
  {
   "cell_type": "markdown",
   "id": "22b84f98-71fe-4a0b-8b56-8eeb05766ebe",
   "metadata": {},
   "source": [
    "The dataset is small enough so bigram selection could be done manually, but gpt4 will be used to scalate the solution. In any case, manual analysis will be done in its answer"
   ]
  },
  {
   "cell_type": "code",
   "execution_count": 27,
   "id": "d03abfb0-b69f-49b6-b5cf-7e399507be96",
   "metadata": {},
   "outputs": [],
   "source": [
    "# df_combined['llm_keep_bigram'] = generate_bigram_decision(df_combined, model_name=\"gpt4\")"
   ]
  },
  {
   "cell_type": "code",
   "execution_count": 28,
   "id": "507a79de-0151-415a-b6d4-da58501b7b1c",
   "metadata": {},
   "outputs": [],
   "source": [
    "# df_bigr_0 = df_combined.loc[df_combined['llm_keep_bigram']==0, 'bigram']\n",
    "# df_bigr_1 = df_combined.loc[df_combined['llm_keep_bigram']==1, 'bigram']"
   ]
  },
  {
   "cell_type": "code",
   "execution_count": 29,
   "id": "e244ce1d-adcc-4d10-a3e7-f9b119423c48",
   "metadata": {},
   "outputs": [],
   "source": [
    "# df_combined.loc[df_combined['llm_keep_bigram']==1, 'bigram'].unique()"
   ]
  },
  {
   "cell_type": "code",
   "execution_count": 30,
   "id": "1d005690-71ec-4c80-ae4d-d7c991f22945",
   "metadata": {},
   "outputs": [],
   "source": [
    "gpt_bigram_list = ['dal bukhara', 'jekyll hyde', 'pleasantly surprised',\n",
    "       'smith street', 'red eye', 'st bart', 'week ago',\n",
    "       'cheeseburger huge', 'bland oily', 'melt mouth', 'shabu shabu',\n",
    "       'top notch', 'goat cheese', 'shred cheese', 'write review',\n",
    "       'new york', 'look forward', 'chow fun', 'lobster sandwich',\n",
    "       'cream cheese', 'big disappointment', 'fast delivery',\n",
    "       'tasting menu', 'one hour', 'large portion', 'last night',\n",
    "       'well prepared', 'special occasion', 'wine list',\n",
    "       'reasonable price', 'highly recommend', 'make point',\n",
    "       'make reservation', 'price high', 'absolutely love', 'pizza nyc',\n",
    "       'fish fresh', 'go back', 'great service', 'come back',\n",
    "       'food service', 'go wrong', 'bad service', 'first time',\n",
    "       'service impeccable']"
   ]
  },
  {
   "cell_type": "code",
   "execution_count": 31,
   "id": "7e7f70af-a747-45cb-a1e6-363ed7d2951d",
   "metadata": {},
   "outputs": [],
   "source": [
    "# df_bigr_0.iloc[0:5]"
   ]
  },
  {
   "cell_type": "code",
   "execution_count": 32,
   "id": "8739f2b0-7015-4638-a7dc-5cc18311c228",
   "metadata": {},
   "outputs": [],
   "source": [
    "add_bigram_list = ['great food', 'food delicious', 'service excellent', 'service great', 'food great', 'food average', 'food excellent', 'good meal', 'good restaurant', 'good wine', 'great place', 'never go', 'service good', 'service top']"
   ]
  },
  {
   "cell_type": "code",
   "execution_count": 33,
   "id": "97b10a67-3da5-4054-98cc-ebe950666f25",
   "metadata": {},
   "outputs": [],
   "source": [
    "# df_bigr_1.iloc[0:5]"
   ]
  },
  {
   "cell_type": "code",
   "execution_count": 34,
   "id": "4070c3b6-8cd2-4ade-aa37-36c3232873ef",
   "metadata": {},
   "outputs": [],
   "source": [
    "remove_bigram_list = ['food service']"
   ]
  },
  {
   "cell_type": "code",
   "execution_count": 35,
   "id": "1a34a22e-11d6-41ed-bc4a-57640f8ae895",
   "metadata": {},
   "outputs": [],
   "source": [
    "gpt_bigram_set = set(gpt_bigram_list)\n",
    "remove_bigram_set = set(remove_bigram_list)\n",
    "add_bigram_set = set(add_bigram_list)\n",
    "\n",
    "# Apply removals and additions\n",
    "final_bigram_set = (gpt_bigram_set - remove_bigram_set).union(add_bigram_set)\n",
    "\n",
    "# Convert back to sorted list if needed\n",
    "final_bigram_list = sorted(final_bigram_set)"
   ]
  },
  {
   "cell_type": "code",
   "execution_count": 36,
   "id": "fa788ec5-d484-4966-91c3-6d9ef227363e",
   "metadata": {},
   "outputs": [
    {
     "name": "stdout",
     "output_type": "stream",
     "text": [
      "Final selected bigrams: ['absolutely love', 'bad service', 'big disappointment', 'bland oily', 'cheeseburger huge', 'chow fun', 'come back', 'cream cheese', 'dal bukhara', 'fast delivery', 'first time', 'fish fresh', 'food average', 'food delicious', 'food excellent', 'food great', 'go back', 'go wrong', 'goat cheese', 'good meal', 'good restaurant', 'good wine', 'great food', 'great place', 'great service', 'highly recommend', 'jekyll hyde', 'large portion', 'last night', 'lobster sandwich', 'look forward', 'make point', 'make reservation', 'melt mouth', 'never go', 'new york', 'one hour', 'pizza nyc', 'pleasantly surprised', 'price high', 'reasonable price', 'red eye', 'service excellent', 'service good', 'service great', 'service impeccable', 'service top', 'shabu shabu', 'shred cheese', 'smith street', 'special occasion', 'st bart', 'tasting menu', 'top notch', 'week ago', 'well prepared', 'wine list', 'write review']\n"
     ]
    }
   ],
   "source": [
    "print(\"Final selected bigrams:\", final_bigram_list)"
   ]
  },
  {
   "cell_type": "markdown",
   "id": "035bb92b-f56c-4728-8db4-b8242e1c8f20",
   "metadata": {},
   "source": [
    "### Trigram"
   ]
  },
  {
   "cell_type": "markdown",
   "id": "9a76259c-7424-41b7-ab28-6d16b0173315",
   "metadata": {},
   "source": [
    "While bigram analysis is mostly sufficient, some case like go back can still be misleading. Trigram can help in those cases"
   ]
  },
  {
   "cell_type": "code",
   "execution_count": 37,
   "id": "69d3cc00-89be-41d4-9c50-775972614ce5",
   "metadata": {},
   "outputs": [
    {
     "name": "stdout",
     "output_type": "stream",
     "text": [
      "              trigram  frequency\n",
      "0       would go back          2\n",
      "1       never go back          2\n",
      "2  definitely go back          1\n",
      "3        ever go back          1\n",
      "4    go back heartily          1\n",
      "5        go back soon          1\n",
      "6       go back place          1\n",
      "7   recommend go back          1\n",
      "8        wait go back          1\n"
     ]
    }
   ],
   "source": [
    "def get_top_trigrams(corpus, top_n=30):\n",
    "    vectorizer = CountVectorizer(ngram_range=(3,3))\n",
    "    X_ngrams = vectorizer.fit_transform(corpus)\n",
    "    ngrams = vectorizer.get_feature_names_out()\n",
    "    counts = X_ngrams.sum(axis=0).A1\n",
    "    trigram_df = pd.DataFrame({'trigram': ngrams, 'frequency': counts})\n",
    "    trigram_df = trigram_df[trigram_df['trigram'].str.contains('go back')]\n",
    "    return trigram_df.sort_values('frequency', ascending=False).reset_index(drop=True)\n",
    "\n",
    "df_trigrams_with_go_back = get_top_trigrams(df['final_text'])\n",
    "print(df_trigrams_with_go_back)"
   ]
  },
  {
   "cell_type": "code",
   "execution_count": 38,
   "id": "75469942-bda2-4122-911e-bed78b7d0fb2",
   "metadata": {},
   "outputs": [],
   "source": [
    "trigram_list = sorted(set(df_trigrams_with_go_back['trigram'].unique()))"
   ]
  },
  {
   "cell_type": "code",
   "execution_count": 39,
   "id": "2b43e29f-d119-4e67-a624-7c6576302df2",
   "metadata": {},
   "outputs": [
    {
     "name": "stdout",
     "output_type": "stream",
     "text": [
      "Final selected bigrams: ['definitely go back', 'ever go back', 'go back heartily', 'go back place', 'go back soon', 'never go back', 'recommend go back', 'wait go back', 'would go back']\n"
     ]
    }
   ],
   "source": [
    "print(\"Final selected trigrams:\", trigram_list)"
   ]
  },
  {
   "cell_type": "markdown",
   "id": "9be78510-99de-4b2f-b3c0-5d256fa8a5a0",
   "metadata": {},
   "source": [
    "## Fine preprocessing"
   ]
  },
  {
   "cell_type": "markdown",
   "id": "40b0f23c-6d07-45f5-b615-a6d5a07ca991",
   "metadata": {},
   "source": [
    "It is important to unify some similar bigram to remove redundancy and improve predictive power"
   ]
  },
  {
   "cell_type": "code",
   "execution_count": 40,
   "id": "092e7d34-a059-41ce-988b-b3eafcd11e32",
   "metadata": {},
   "outputs": [],
   "source": [
    "bigram_group_mapping = {'food delicious': 'great_food',\n",
    "                        'food excellent': 'great_food',\n",
    "                        'food great': 'great_food',\n",
    "                        'great food': 'great_food',\n",
    "                        \n",
    "                        'great service': 'great_service',\n",
    "                        'service excellent': 'great_service',\n",
    "                        'service good': 'great_service',\n",
    "                        'service great': 'great_service',\n",
    "                        'service impeccable': 'great_service',\n",
    "                        'service top': 'great_service'\n",
    "                       }"
   ]
  },
  {
   "cell_type": "code",
   "execution_count": 41,
   "id": "39d26f74-a795-49fc-984a-8528dffe14ff",
   "metadata": {},
   "outputs": [
    {
     "data": {
      "text/plain": [
       "['good meal', 'good restaurant', 'good wine', 'service good']"
      ]
     },
     "execution_count": 41,
     "metadata": {},
     "output_type": "execute_result"
    }
   ],
   "source": [
    "[bigram for bigram in final_bigram_list if 'good' in bigram]"
   ]
  },
  {
   "cell_type": "code",
   "execution_count": 42,
   "id": "de14b14c-8276-41fb-9672-029a533bccc3",
   "metadata": {},
   "outputs": [
    {
     "data": {
      "text/plain": [
       "['food average',\n",
       " 'food delicious',\n",
       " 'food excellent',\n",
       " 'food great',\n",
       " 'great food']"
      ]
     },
     "execution_count": 42,
     "metadata": {},
     "output_type": "execute_result"
    }
   ],
   "source": [
    "[bigram for bigram in final_bigram_list if 'food' in bigram]"
   ]
  },
  {
   "cell_type": "code",
   "execution_count": 43,
   "id": "bf8a6783-0950-44c2-812d-1a33c47c8af6",
   "metadata": {},
   "outputs": [
    {
     "data": {
      "text/plain": [
       "['bad service',\n",
       " 'great service',\n",
       " 'service excellent',\n",
       " 'service good',\n",
       " 'service great',\n",
       " 'service impeccable',\n",
       " 'service top']"
      ]
     },
     "execution_count": 43,
     "metadata": {},
     "output_type": "execute_result"
    }
   ],
   "source": [
    "[bigram for bigram in final_bigram_list if 'service' in bigram]"
   ]
  },
  {
   "cell_type": "code",
   "execution_count": 44,
   "id": "68905146-7b17-4ad1-bf79-b64fce8f7972",
   "metadata": {},
   "outputs": [
    {
     "data": {
      "text/plain": [
       "['good restaurant']"
      ]
     },
     "execution_count": 44,
     "metadata": {},
     "output_type": "execute_result"
    }
   ],
   "source": [
    "[bigram for bigram in final_bigram_list if 'restaurant' in bigram]"
   ]
  },
  {
   "cell_type": "code",
   "execution_count": 45,
   "id": "37ed5cd9-a4d0-4628-a0e6-ed22fdcc7966",
   "metadata": {},
   "outputs": [
    {
     "data": {
      "text/plain": [
       "['price high', 'reasonable price']"
      ]
     },
     "execution_count": 45,
     "metadata": {},
     "output_type": "execute_result"
    }
   ],
   "source": [
    "[bigram for bigram in final_bigram_list if 'price' in bigram]"
   ]
  },
  {
   "cell_type": "code",
   "execution_count": 46,
   "id": "51c848f6-d38c-4eac-babc-36245f565e2b",
   "metadata": {},
   "outputs": [],
   "source": [
    "trigram_group_mapping = {'definitely go back': 'go_back',\n",
    "                         'go back heartily': 'go_back',\n",
    "                         'go back place': 'go_back', \n",
    "                         'go back soon': 'go_back', \n",
    "                         'recommend go back': 'go_back', \n",
    "                         'wait go back': 'go_back',\n",
    "                         'would go back': 'go_back',\n",
    "\n",
    "                         'ever go back': 'dont_go_back' ,\n",
    "                         'never go back': 'dont_go_back', \n",
    "                       }"
   ]
  },
  {
   "cell_type": "code",
   "execution_count": null,
   "id": "7c05cc82-435e-478b-8a87-26b7dd975292",
   "metadata": {},
   "outputs": [],
   "source": []
  },
  {
   "cell_type": "code",
   "execution_count": 47,
   "id": "12b991ed-cc64-4b32-994b-f083611564b6",
   "metadata": {},
   "outputs": [],
   "source": [
    "def enrich_text_full(text, trigram_group_mapping, bigram_group_mapping, trigram_list, bigram_list):\n",
    "    # 1. Replace trigram group mappings (strong semantic overrides)\n",
    "    for trigram, unified in trigram_group_mapping.items():\n",
    "        text = text.replace(trigram, unified)\n",
    "    \n",
    "    # 2. Replace bigram group mappings\n",
    "    for bigram, unified in bigram_group_mapping.items():\n",
    "        text = text.replace(bigram, unified)\n",
    "    \n",
    "    # 3. Replace remaining specific trigrams as unigrams\n",
    "    for trigram in trigram_list:\n",
    "        text = text.replace(trigram, trigram.replace(' ', '_'))\n",
    "    \n",
    "    # 4. Replace remaining specific bigrams as unigrams\n",
    "    for bigram in bigram_list:\n",
    "        text = text.replace(bigram, bigram.replace(' ', '_'))\n",
    "    \n",
    "    return text"
   ]
  },
  {
   "cell_type": "code",
   "execution_count": 48,
   "id": "a4fe3cec-8500-46c2-b009-f97caf522064",
   "metadata": {},
   "outputs": [],
   "source": [
    "df['final_text_enriched'] = df['final_text'].apply(lambda x: enrich_text_full(x, trigram_group_mapping, bigram_group_mapping, trigram_list, final_bigram_list))"
   ]
  },
  {
   "cell_type": "code",
   "execution_count": 49,
   "id": "42467912-c743-4859-a70b-abbec4bf9e47",
   "metadata": {},
   "outputs": [
    {
     "data": {
      "image/png": "[encoded data removed]",
      "text/plain": [
       "<Figure size 1500x600 with 2 Axes>"
      ]
     },
     "metadata": {},
     "output_type": "display_data"
    }
   ],
   "source": [
    "# Total words per class (for normalization)\n",
    "\n",
    "top_words_0 = get_top_words(df[df['target'] == 0]['final_text'])\n",
    "top_words_1 = get_top_words(df[df['target'] == 1]['final_text'])\n",
    "\n",
    "total_words_0 = df[df['target'] == 0]['final_text'].apply(lambda x: len(x.split())).sum()\n",
    "total_words_1 = df[df['target'] == 1]['final_text'].apply(lambda x: len(x.split())).sum()\n",
    "\n",
    "plot_top_words_side_by_side_normalized(\n",
    "    top_words_0, top_words_1,\n",
    "    total_words_0, total_words_1,\n",
    "    'Top Words - Class 0 (Normalized)', 'Top Words - Class 1 (Normalized)'\n",
    ")"
   ]
  },
  {
   "cell_type": "code",
   "execution_count": 50,
   "id": "60effda5-705d-425e-8b3b-c4fd2eef8075",
   "metadata": {},
   "outputs": [
    {
     "data": {
      "image/png": "[encoded data removed]",
      "text/plain": [
       "<Figure size 1500x600 with 2 Axes>"
      ]
     },
     "metadata": {},
     "output_type": "display_data"
    }
   ],
   "source": [
    "# Total words per class (for normalization)\n",
    "\n",
    "top_words_0 = get_top_words(df[df['target'] == 0]['final_text_enriched'])\n",
    "top_words_1 = get_top_words(df[df['target'] == 1]['final_text_enriched'])\n",
    "\n",
    "total_words_0 = df[df['target'] == 0]['final_text_enriched'].apply(lambda x: len(x.split())).sum()\n",
    "total_words_1 = df[df['target'] == 1]['final_text_enriched'].apply(lambda x: len(x.split())).sum()\n",
    "\n",
    "plot_top_words_side_by_side_normalized(\n",
    "    top_words_0, top_words_1,\n",
    "    total_words_0, total_words_1,\n",
    "    'Top Words - Class 0 (Normalized)', 'Top Words - Class 1 (Normalized)'\n",
    ")"
   ]
  },
  {
   "cell_type": "markdown",
   "id": "d8268b57-c649-45d2-851e-f7afdd8f66c4",
   "metadata": {},
   "source": [
    "Bigram and trigam analysis reduced the problem. Percentage of words such as food and service reduced, which should help when modelling"
   ]
  },
  {
   "cell_type": "markdown",
   "id": "d332644a-9145-4c73-b788-0f3621fbf7bc",
   "metadata": {},
   "source": [
    "## Text length"
   ]
  },
  {
   "cell_type": "code",
   "execution_count": 51,
   "id": "ff405788-273c-4e2c-9056-18cbf2acd19b",
   "metadata": {},
   "outputs": [],
   "source": [
    "df['text_length'] = df['final_text'].apply(lambda x: len(x))\n",
    "df['n_tokens'] = df['final_text_enriched'].apply(lambda x: len(x.split()))"
   ]
  },
  {
   "cell_type": "code",
   "execution_count": 52,
   "id": "5a18ab63-44aa-4a8c-a9a0-0f427bd6ffcb",
   "metadata": {},
   "outputs": [
    {
     "data": {
      "text/html": [
       "<div>\n",
       "<style scoped>\n",
       "    .dataframe tbody tr th:only-of-type {\n",
       "        vertical-align: middle;\n",
       "    }\n",
       "\n",
       "    .dataframe tbody tr th {\n",
       "        vertical-align: top;\n",
       "    }\n",
       "\n",
       "    .dataframe thead th {\n",
       "        text-align: right;\n",
       "    }\n",
       "</style>\n",
       "<table border=\"1\" class=\"dataframe\">\n",
       "  <thead>\n",
       "    <tr style=\"text-align: right;\">\n",
       "      <th></th>\n",
       "      <th>count</th>\n",
       "      <th>mean</th>\n",
       "      <th>std</th>\n",
       "      <th>min</th>\n",
       "      <th>25%</th>\n",
       "      <th>50%</th>\n",
       "      <th>75%</th>\n",
       "      <th>max</th>\n",
       "    </tr>\n",
       "    <tr>\n",
       "      <th>target</th>\n",
       "      <th></th>\n",
       "      <th></th>\n",
       "      <th></th>\n",
       "      <th></th>\n",
       "      <th></th>\n",
       "      <th></th>\n",
       "      <th></th>\n",
       "      <th></th>\n",
       "    </tr>\n",
       "  </thead>\n",
       "  <tbody>\n",
       "    <tr>\n",
       "      <th>0.0</th>\n",
       "      <td>153.0</td>\n",
       "      <td>42.764706</td>\n",
       "      <td>23.302294</td>\n",
       "      <td>4.0</td>\n",
       "      <td>25.0</td>\n",
       "      <td>39.0</td>\n",
       "      <td>56.0</td>\n",
       "      <td>124.0</td>\n",
       "    </tr>\n",
       "    <tr>\n",
       "      <th>1.0</th>\n",
       "      <td>433.0</td>\n",
       "      <td>39.678984</td>\n",
       "      <td>22.993778</td>\n",
       "      <td>2.0</td>\n",
       "      <td>22.0</td>\n",
       "      <td>34.0</td>\n",
       "      <td>53.0</td>\n",
       "      <td>132.0</td>\n",
       "    </tr>\n",
       "  </tbody>\n",
       "</table>\n",
       "</div>"
      ],
      "text/plain": [
       "        count       mean        std  min   25%   50%   75%    max\n",
       "target                                                           \n",
       "0.0     153.0  42.764706  23.302294  4.0  25.0  39.0  56.0  124.0\n",
       "1.0     433.0  39.678984  22.993778  2.0  22.0  34.0  53.0  132.0"
      ]
     },
     "execution_count": 52,
     "metadata": {},
     "output_type": "execute_result"
    }
   ],
   "source": [
    "df.groupby('target')['text_length'].describe()"
   ]
  },
  {
   "cell_type": "code",
   "execution_count": 53,
   "id": "99cf0ff8-eb94-4f64-a3f1-03079222145a",
   "metadata": {},
   "outputs": [
    {
     "data": {
      "text/html": [
       "<div>\n",
       "<style scoped>\n",
       "    .dataframe tbody tr th:only-of-type {\n",
       "        vertical-align: middle;\n",
       "    }\n",
       "\n",
       "    .dataframe tbody tr th {\n",
       "        vertical-align: top;\n",
       "    }\n",
       "\n",
       "    .dataframe thead th {\n",
       "        text-align: right;\n",
       "    }\n",
       "</style>\n",
       "<table border=\"1\" class=\"dataframe\">\n",
       "  <thead>\n",
       "    <tr style=\"text-align: right;\">\n",
       "      <th></th>\n",
       "      <th>count</th>\n",
       "      <th>mean</th>\n",
       "      <th>std</th>\n",
       "      <th>min</th>\n",
       "      <th>25%</th>\n",
       "      <th>50%</th>\n",
       "      <th>75%</th>\n",
       "      <th>max</th>\n",
       "    </tr>\n",
       "    <tr>\n",
       "      <th>target</th>\n",
       "      <th></th>\n",
       "      <th></th>\n",
       "      <th></th>\n",
       "      <th></th>\n",
       "      <th></th>\n",
       "      <th></th>\n",
       "      <th></th>\n",
       "      <th></th>\n",
       "    </tr>\n",
       "  </thead>\n",
       "  <tbody>\n",
       "    <tr>\n",
       "      <th>0.0</th>\n",
       "      <td>153.0</td>\n",
       "      <td>6.640523</td>\n",
       "      <td>3.770757</td>\n",
       "      <td>1.0</td>\n",
       "      <td>4.0</td>\n",
       "      <td>6.0</td>\n",
       "      <td>8.0</td>\n",
       "      <td>21.0</td>\n",
       "    </tr>\n",
       "    <tr>\n",
       "      <th>1.0</th>\n",
       "      <td>433.0</td>\n",
       "      <td>5.829099</td>\n",
       "      <td>3.401169</td>\n",
       "      <td>1.0</td>\n",
       "      <td>3.0</td>\n",
       "      <td>5.0</td>\n",
       "      <td>8.0</td>\n",
       "      <td>20.0</td>\n",
       "    </tr>\n",
       "  </tbody>\n",
       "</table>\n",
       "</div>"
      ],
      "text/plain": [
       "        count      mean       std  min  25%  50%  75%   max\n",
       "target                                                     \n",
       "0.0     153.0  6.640523  3.770757  1.0  4.0  6.0  8.0  21.0\n",
       "1.0     433.0  5.829099  3.401169  1.0  3.0  5.0  8.0  20.0"
      ]
     },
     "execution_count": 53,
     "metadata": {},
     "output_type": "execute_result"
    }
   ],
   "source": [
    "df.groupby('target')['n_tokens'].describe()"
   ]
  },
  {
   "cell_type": "markdown",
   "id": "f013db24-6408-408b-af13-069bcfb50f7f",
   "metadata": {},
   "source": [
    "## Sentiment analysis"
   ]
  },
  {
   "cell_type": "code",
   "execution_count": 54,
   "id": "fe80d292-6aa9-49e3-b5e0-5141b46eb21f",
   "metadata": {},
   "outputs": [
    {
     "data": {
      "image/png": "[encoded data removed]",
      "text/plain": [
       "<Figure size 800x500 with 1 Axes>"
      ]
     },
     "metadata": {},
     "output_type": "display_data"
    }
   ],
   "source": [
    "sia = SentimentIntensityAnalyzer()\n",
    "df['sentiment'] = df['final_text'].apply(lambda x: sia.polarity_scores(x)['compound'])\n",
    "\n",
    "df.groupby('target')['sentiment'].describe()\n",
    "\n",
    "# Optional plot\n",
    "import seaborn as sns\n",
    "\n",
    "plt.figure(figsize=(8,5))\n",
    "sns.boxplot(data=df, x='target', y='sentiment')\n",
    "plt.title('Sentiment Distribution per Class')\n",
    "plt.show()"
   ]
  },
  {
   "cell_type": "markdown",
   "id": "a4e9c606-8490-4834-937a-6c424b1bff6a",
   "metadata": {},
   "source": [
    "# Save final dataframe"
   ]
  },
  {
   "cell_type": "code",
   "execution_count": 55,
   "id": "e291daeb-742a-4243-a66e-6bb93dc119e5",
   "metadata": {},
   "outputs": [],
   "source": [
    "df.drop(columns=['final_text'], inplace=True)"
   ]
  },
  {
   "cell_type": "code",
   "execution_count": 56,
   "id": "6e7d670e-dc46-4c35-87bd-a877a99e2a5d",
   "metadata": {},
   "outputs": [],
   "source": [
    "df.to_csv('data/processed/final_processed_train.csv', index=False)"
   ]
  },
  {
   "cell_type": "code",
   "execution_count": 57,
   "id": "39d0e827-82a8-4f7c-a5e8-4fb907fbe2eb",
   "metadata": {},
   "outputs": [
    {
     "data": {
      "text/html": [
       "<div>\n",
       "<style scoped>\n",
       "    .dataframe tbody tr th:only-of-type {\n",
       "        vertical-align: middle;\n",
       "    }\n",
       "\n",
       "    .dataframe tbody tr th {\n",
       "        vertical-align: top;\n",
       "    }\n",
       "\n",
       "    .dataframe thead th {\n",
       "        text-align: right;\n",
       "    }\n",
       "</style>\n",
       "<table border=\"1\" class=\"dataframe\">\n",
       "  <thead>\n",
       "    <tr style=\"text-align: right;\">\n",
       "      <th></th>\n",
       "      <th>text</th>\n",
       "      <th>target</th>\n",
       "      <th>has_number</th>\n",
       "      <th>has_rating_number</th>\n",
       "      <th>bert_text</th>\n",
       "      <th>final_text_enriched</th>\n",
       "      <th>text_length</th>\n",
       "      <th>n_tokens</th>\n",
       "      <th>sentiment</th>\n",
       "    </tr>\n",
       "  </thead>\n",
       "  <tbody>\n",
       "    <tr>\n",
       "      <th>0</th>\n",
       "      <td>judging from previous posts this used to be a good place , but not any longer .</td>\n",
       "      <td>0.0</td>\n",
       "      <td>False</td>\n",
       "      <td>False</td>\n",
       "      <td>judging from previous posts this used to be a good place , but not any longer .</td>\n",
       "      <td>judge previous post use good place long</td>\n",
       "      <td>39</td>\n",
       "      <td>7</td>\n",
       "      <td>0.4404</td>\n",
       "    </tr>\n",
       "    <tr>\n",
       "      <th>1</th>\n",
       "      <td>we , there were four of us , arrived at noon - the place was empty - and the staff acted like we were imposing on them and they were very rude .</td>\n",
       "      <td>0.0</td>\n",
       "      <td>False</td>\n",
       "      <td>False</td>\n",
       "      <td>we , there were four of us , arrived at noon - the place was empty - and the staff acted like we were imposing on them and they were very rude .</td>\n",
       "      <td>four arrive noon place empty staff act like impose rude</td>\n",
       "      <td>55</td>\n",
       "      <td>10</td>\n",
       "      <td>-0.5423</td>\n",
       "    </tr>\n",
       "    <tr>\n",
       "      <th>2</th>\n",
       "      <td>they never brought us complimentary noodles , ignored repeated requests for sugar , and threw our dishes on the table .</td>\n",
       "      <td>0.0</td>\n",
       "      <td>False</td>\n",
       "      <td>False</td>\n",
       "      <td>they never brought us complimentary noodles , ignored repeated requests for sugar , and threw our dishes on the table .</td>\n",
       "      <td>never bring complimentary noodle ignore repeat request sugar throw dish table</td>\n",
       "      <td>77</td>\n",
       "      <td>11</td>\n",
       "      <td>-0.6002</td>\n",
       "    </tr>\n",
       "    <tr>\n",
       "      <th>3</th>\n",
       "      <td>the food was lousy - too sweet or too salty and the portions tiny .</td>\n",
       "      <td>0.0</td>\n",
       "      <td>False</td>\n",
       "      <td>False</td>\n",
       "      <td>the food was lousy - too sweet or too salty and the portions tiny .</td>\n",
       "      <td>food lousy sweet salty portion tiny</td>\n",
       "      <td>35</td>\n",
       "      <td>6</td>\n",
       "      <td>-0.1280</td>\n",
       "    </tr>\n",
       "    <tr>\n",
       "      <th>4</th>\n",
       "      <td>after all that , they complained to me about the small tip .</td>\n",
       "      <td>0.0</td>\n",
       "      <td>False</td>\n",
       "      <td>False</td>\n",
       "      <td>after all that , they complained to me about the small tip .</td>\n",
       "      <td>complain small tip</td>\n",
       "      <td>18</td>\n",
       "      <td>3</td>\n",
       "      <td>-0.3612</td>\n",
       "    </tr>\n",
       "    <tr>\n",
       "      <th>...</th>\n",
       "      <td>...</td>\n",
       "      <td>...</td>\n",
       "      <td>...</td>\n",
       "      <td>...</td>\n",
       "      <td>...</td>\n",
       "      <td>...</td>\n",
       "      <td>...</td>\n",
       "      <td>...</td>\n",
       "      <td>...</td>\n",
       "    </tr>\n",
       "    <tr>\n",
       "      <th>582</th>\n",
       "      <td>mizu is the japenese find in grammercy .</td>\n",
       "      <td>1.0</td>\n",
       "      <td>False</td>\n",
       "      <td>False</td>\n",
       "      <td>mizu is the japenese find in grammercy .</td>\n",
       "      <td>mizu japanese find gramercy</td>\n",
       "      <td>27</td>\n",
       "      <td>4</td>\n",
       "      <td>0.0000</td>\n",
       "    </tr>\n",
       "    <tr>\n",
       "      <th>583</th>\n",
       "      <td>while their kitchen food is delicious , their sushi is out of this world .</td>\n",
       "      <td>1.0</td>\n",
       "      <td>False</td>\n",
       "      <td>False</td>\n",
       "      <td>while their kitchen food is delicious , their sushi is out of this world .</td>\n",
       "      <td>kitchen great_food sushi world</td>\n",
       "      <td>34</td>\n",
       "      <td>4</td>\n",
       "      <td>0.5719</td>\n",
       "    </tr>\n",
       "    <tr>\n",
       "      <th>584</th>\n",
       "      <td>mizu is home to creative and unique rolls not to found anywhere else .</td>\n",
       "      <td>1.0</td>\n",
       "      <td>False</td>\n",
       "      <td>False</td>\n",
       "      <td>mizu is home to creative and unique rolls not to found anywhere else .</td>\n",
       "      <td>mizu home creative unique roll find anywhere else</td>\n",
       "      <td>49</td>\n",
       "      <td>8</td>\n",
       "      <td>0.4404</td>\n",
       "    </tr>\n",
       "    <tr>\n",
       "      <th>585</th>\n",
       "      <td>not only is the cuisine the best around , the service has always been attentive and charming .</td>\n",
       "      <td>1.0</td>\n",
       "      <td>False</td>\n",
       "      <td>False</td>\n",
       "      <td>not only is the cuisine the best around , the service has always been attentive and charming .</td>\n",
       "      <td>cuisine good around service always attentive charming</td>\n",
       "      <td>53</td>\n",
       "      <td>7</td>\n",
       "      <td>0.7717</td>\n",
       "    </tr>\n",
       "    <tr>\n",
       "      <th>586</th>\n",
       "      <td>warning : you may find it difficult to dine at other japanese restaurants after a visit to mizu !</td>\n",
       "      <td>1.0</td>\n",
       "      <td>False</td>\n",
       "      <td>False</td>\n",
       "      <td>warning : you may find it difficult to dine at other japanese restaurants after a visit to mizu !</td>\n",
       "      <td>warn may find difficult dine japanese restaurant visit mizu !</td>\n",
       "      <td>61</td>\n",
       "      <td>10</td>\n",
       "      <td>-0.4926</td>\n",
       "    </tr>\n",
       "  </tbody>\n",
       "</table>\n",
       "<p>586 rows × 9 columns</p>\n",
       "</div>"
      ],
      "text/plain": [
       "                                                                                                                                                 text  \\\n",
       "0                                                                     judging from previous posts this used to be a good place , but not any longer .   \n",
       "1    we , there were four of us , arrived at noon - the place was empty - and the staff acted like we were imposing on them and they were very rude .   \n",
       "2                             they never brought us complimentary noodles , ignored repeated requests for sugar , and threw our dishes on the table .   \n",
       "3                                                                                 the food was lousy - too sweet or too salty and the portions tiny .   \n",
       "4                                                                                        after all that , they complained to me about the small tip .   \n",
       "..                                                                                                                                                ...   \n",
       "582                                                                                                          mizu is the japenese find in grammercy .   \n",
       "583                                                                        while their kitchen food is delicious , their sushi is out of this world .   \n",
       "584                                                                            mizu is home to creative and unique rolls not to found anywhere else .   \n",
       "585                                                    not only is the cuisine the best around , the service has always been attentive and charming .   \n",
       "586                                                 warning : you may find it difficult to dine at other japanese restaurants after a visit to mizu !   \n",
       "\n",
       "     target  has_number  has_rating_number  \\\n",
       "0       0.0       False              False   \n",
       "1       0.0       False              False   \n",
       "2       0.0       False              False   \n",
       "3       0.0       False              False   \n",
       "4       0.0       False              False   \n",
       "..      ...         ...                ...   \n",
       "582     1.0       False              False   \n",
       "583     1.0       False              False   \n",
       "584     1.0       False              False   \n",
       "585     1.0       False              False   \n",
       "586     1.0       False              False   \n",
       "\n",
       "                                                                                                                                            bert_text  \\\n",
       "0                                                                     judging from previous posts this used to be a good place , but not any longer .   \n",
       "1    we , there were four of us , arrived at noon - the place was empty - and the staff acted like we were imposing on them and they were very rude .   \n",
       "2                             they never brought us complimentary noodles , ignored repeated requests for sugar , and threw our dishes on the table .   \n",
       "3                                                                                 the food was lousy - too sweet or too salty and the portions tiny .   \n",
       "4                                                                                        after all that , they complained to me about the small tip .   \n",
       "..                                                                                                                                                ...   \n",
       "582                                                                                                          mizu is the japenese find in grammercy .   \n",
       "583                                                                        while their kitchen food is delicious , their sushi is out of this world .   \n",
       "584                                                                            mizu is home to creative and unique rolls not to found anywhere else .   \n",
       "585                                                    not only is the cuisine the best around , the service has always been attentive and charming .   \n",
       "586                                                 warning : you may find it difficult to dine at other japanese restaurants after a visit to mizu !   \n",
       "\n",
       "                                                               final_text_enriched  \\\n",
       "0                                          judge previous post use good place long   \n",
       "1                          four arrive noon place empty staff act like impose rude   \n",
       "2    never bring complimentary noodle ignore repeat request sugar throw dish table   \n",
       "3                                              food lousy sweet salty portion tiny   \n",
       "4                                                               complain small tip   \n",
       "..                                                                             ...   \n",
       "582                                                    mizu japanese find gramercy   \n",
       "583                                                 kitchen great_food sushi world   \n",
       "584                              mizu home creative unique roll find anywhere else   \n",
       "585                          cuisine good around service always attentive charming   \n",
       "586                  warn may find difficult dine japanese restaurant visit mizu !   \n",
       "\n",
       "     text_length  n_tokens  sentiment  \n",
       "0             39         7     0.4404  \n",
       "1             55        10    -0.5423  \n",
       "2             77        11    -0.6002  \n",
       "3             35         6    -0.1280  \n",
       "4             18         3    -0.3612  \n",
       "..           ...       ...        ...  \n",
       "582           27         4     0.0000  \n",
       "583           34         4     0.5719  \n",
       "584           49         8     0.4404  \n",
       "585           53         7     0.7717  \n",
       "586           61        10    -0.4926  \n",
       "\n",
       "[586 rows x 9 columns]"
      ]
     },
     "execution_count": 57,
     "metadata": {},
     "output_type": "execute_result"
    }
   ],
   "source": [
    "df"
   ]
  }
 ],
 "metadata": {
  "kernelspec": {
   "display_name": "NLP venv",
   "language": "python",
   "name": "nlp_venv"
  },
  "language_info": {
   "codemirror_mode": {
    "name": "ipython",
    "version": 3
   },
   "file_extension": ".py",
   "mimetype": "text/x-python",
   "name": "python",
   "nbconvert_exporter": "python",
   "pygments_lexer": "ipython3",
   "version": "3.12.7"
  }
 },
 "nbformat": 4,
 "nbformat_minor": 5
}
