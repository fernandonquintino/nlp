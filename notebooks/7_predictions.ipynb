{
 "cells": [
  {
   "cell_type": "code",
   "execution_count": 1,
   "id": "15f499bc-c772-44c7-855a-aab6713efbfe",
   "metadata": {},
   "outputs": [],
   "source": [
    "import os\n",
    "os.chdir('../')"
   ]
  },
  {
   "cell_type": "code",
   "execution_count": 2,
   "id": "22448b07-a990-47e4-9d3c-bc4f811424e4",
   "metadata": {},
   "outputs": [],
   "source": [
    "import sys\n",
    "sys.path.append(os.path.abspath('src'))\n",
    "\n",
    "import pandas as pd\n",
    "import numpy as np\n",
    "import joblib\n",
    "\n",
    "from sklearn.pipeline import Pipeline\n",
    "from sklearn.preprocessing import StandardScaler\n",
    "from sklearn.feature_extraction.text import CountVectorizer, TfidfVectorizer\n",
    "from sklearn.linear_model import LogisticRegression\n",
    "from sklearn.dummy import DummyClassifier\n",
    "\n",
    "from lightgbm import LGBMClassifier\n",
    "from sentence_transformers import SentenceTransformer\n",
    "\n",
    "from feature_engineering import FullFeatureExtractor, SelectStructured, SelectText\n",
    "from src.nlp_models.sentence_bert_lr import SentenceBertStructuredLRClassifier, load_sentence_bert_lr\n",
    "from src.nlp_models.fine_tuned_bert import FineTunedBertClassifier\n",
    "from resources import blocklist, whitelist\n",
    "from resources_lemmatization import trigram_group_mapping, bigram_group_mapping, trigram_list, bigram_list"
   ]
  },
  {
   "cell_type": "code",
   "execution_count": 3,
   "id": "34b94c53-3703-4a98-b9ee-be53b2f5d1e7",
   "metadata": {},
   "outputs": [],
   "source": [
    "feature_extractor = FullFeatureExtractor(blocklist, whitelist,\n",
    "                                         trigram_group_mapping, bigram_group_mapping,\n",
    "                                         trigram_list, bigram_list)\n",
    "feature_extractor_bert = FullFeatureExtractor(blocklist, whitelist,\n",
    "                                         trigram_group_mapping, bigram_group_mapping,\n",
    "                                         trigram_list, bigram_list, use_light_clean_for_text=True)"
   ]
  },
  {
   "cell_type": "code",
   "execution_count": 4,
   "id": "e7213d2a-a925-4d2e-88be-e12e280c10c1",
   "metadata": {},
   "outputs": [],
   "source": [
    "df_train = pd.read_csv('data/processed/final_label.csv')\n",
    "df_test = pd.read_csv('data/raw/dataset_valid.csv', sep='|')\n",
    "df_test = df_test.iloc[:, 1:]\n",
    "df_test.rename(columns={'input': 'text'}, inplace=True)"
   ]
  },
  {
   "cell_type": "code",
   "execution_count": 5,
   "id": "d3812f2f-a5d0-4ee0-bd49-ed031509dca2",
   "metadata": {},
   "outputs": [],
   "source": [
    "X_train = df_train['text']\n",
    "X_test = df_test['text']"
   ]
  },
  {
   "cell_type": "markdown",
   "id": "d15404f5-2799-415f-95f0-d7f44fd4d925",
   "metadata": {},
   "source": [
    "# Load models"
   ]
  },
  {
   "cell_type": "code",
   "execution_count": 6,
   "id": "a2519292-005e-4f32-a091-251d9ec8c041",
   "metadata": {},
   "outputs": [],
   "source": [
    "pipeline_dummy = joblib.load('models/pipeline_dummy.joblib')\n",
    "pipeline_bow_lr = joblib.load('models/pipeline_bow_lr.joblib')\n",
    "pipeline_tfidf_lr = joblib.load('models/pipeline_tfidf_lr.joblib')\n",
    "pipeline_tfidf_svd_lgbm = joblib.load('models/pipeline_tfidf_svd_lgbm.joblib')\n",
    "pipeline_lsa_lr = joblib.load('models/pipeline_lsa_lr.joblib')"
   ]
  },
  {
   "cell_type": "code",
   "execution_count": 7,
   "id": "0de4fe11-ff3d-4fe0-b603-d83f0c16b87e",
   "metadata": {},
   "outputs": [],
   "source": [
    "model_bert_ls_loaded = load_sentence_bert_lr('models/bert_sentence_lr', preprocessor=feature_extractor_bert)\n",
    "bert_clf_loaded = FineTunedBertClassifier.load('models/bert_finetuned_model')"
   ]
  },
  {
   "cell_type": "markdown",
   "id": "672dd767-6e19-4af8-ab1f-1250619fcd02",
   "metadata": {},
   "source": [
    "# Predictions"
   ]
  },
  {
   "cell_type": "code",
   "execution_count": 8,
   "id": "38d4761a-783a-444c-9ed4-521693fc68bb",
   "metadata": {},
   "outputs": [],
   "source": [
    "def generate_all_model_predictions(X, pipeline_dummy, pipeline_bow_lr, pipeline_tfidf_lr, pipeline_tfidf_svd_lgbm, pipeline_lsa_lr, model_bert_ls_loaded, bert_clf_loaded):\n",
    "    predictions = {\n",
    "        'dummy': pipeline_dummy.predict(X),\n",
    "        'bow_lr': pipeline_bow_lr.predict(X),\n",
    "        'tfidf_lr': pipeline_tfidf_lr.predict(X),\n",
    "        'tfidf_svd_lgbm': pipeline_tfidf_svd_lgbm.predict(X),\n",
    "        'lsa_lr': pipeline_lsa_lr.predict(X),\n",
    "        'bert_ls': model_bert_ls_loaded.predict(X),\n",
    "        'bert_clf_loaded': np.array(bert_clf_loaded.predict(X))\n",
    "    }\n",
    "\n",
    "    return pd.DataFrame(predictions)"
   ]
  },
  {
   "cell_type": "code",
   "execution_count": 9,
   "id": "46406054-4386-498a-bb99-bc1824c0cd7a",
   "metadata": {},
   "outputs": [
    {
     "name": "stderr",
     "output_type": "stream",
     "text": [
      "C:\\Users\\fernando\\Downloads\\nlp\\venv\\Lib\\site-packages\\sklearn\\utils\\validation.py:2739: UserWarning: X does not have valid feature names, but LGBMClassifier was fitted with feature names\n",
      "  warnings.warn(\n"
     ]
    }
   ],
   "source": [
    "preds_train = generate_all_model_predictions(X_train, pipeline_dummy, pipeline_bow_lr, pipeline_tfidf_lr, pipeline_tfidf_svd_lgbm, pipeline_lsa_lr, model_bert_ls_loaded, bert_clf_loaded)"
   ]
  },
  {
   "cell_type": "code",
   "execution_count": 10,
   "id": "1b98f6d5-c875-4f3f-8411-20b30fc24978",
   "metadata": {},
   "outputs": [
    {
     "name": "stderr",
     "output_type": "stream",
     "text": [
      "C:\\Users\\fernando\\Downloads\\nlp\\venv\\Lib\\site-packages\\sklearn\\utils\\validation.py:2739: UserWarning: X does not have valid feature names, but LGBMClassifier was fitted with feature names\n",
      "  warnings.warn(\n"
     ]
    }
   ],
   "source": [
    "preds_test = generate_all_model_predictions(X_test, pipeline_dummy, pipeline_bow_lr, pipeline_tfidf_lr, pipeline_tfidf_svd_lgbm, pipeline_lsa_lr, model_bert_ls_loaded, bert_clf_loaded)"
   ]
  },
  {
   "cell_type": "code",
   "execution_count": 11,
   "id": "cd65a83e-38c3-416c-938d-c6ec9dc6765b",
   "metadata": {},
   "outputs": [],
   "source": [
    "df_train = df_train.join(preds_train)\n",
    "df_test = df_test.join(preds_test)"
   ]
  },
  {
   "cell_type": "code",
   "execution_count": 12,
   "id": "cd798fa0-ffdd-42da-844e-4236badec89a",
   "metadata": {},
   "outputs": [],
   "source": [
    "df_train['bert_clf_loaded'] = df_train['bert_clf_loaded'].astype(float)\n",
    "df_test['bert_clf_loaded'] = df_test['bert_clf_loaded'].astype(float)"
   ]
  },
  {
   "cell_type": "code",
   "execution_count": 13,
   "id": "2473cbe9-7809-49bf-a9bb-6b54c9408c34",
   "metadata": {},
   "outputs": [],
   "source": [
    "df_train.to_csv('data/results/results_train.csv', index=False)\n",
    "df_test.to_csv('data/results/results_test.csv', index=False)"
   ]
  },
  {
   "cell_type": "code",
   "execution_count": 14,
   "id": "2a2bfebb-8fb0-407c-89e9-ab4a1573d9f3",
   "metadata": {},
   "outputs": [],
   "source": [
    "df_test[['text', 'bert_ls']].rename(columns={'bert_ls': 'prediction'}).to_csv('data/results/practical_results.csv', index=False)\n",
    "df_test[['text', 'bert_clf_loaded']].rename(columns={'bert_clf_loaded': 'prediction'}).to_csv('data/results/best_results.csv', index=False)"
   ]
  }
 ],
 "metadata": {
  "kernelspec": {
   "display_name": "NLP venv",
   "language": "python",
   "name": "nlp_venv"
  },
  "language_info": {
   "codemirror_mode": {
    "name": "ipython",
    "version": 3
   },
   "file_extension": ".py",
   "mimetype": "text/x-python",
   "name": "python",
   "nbconvert_exporter": "python",
   "pygments_lexer": "ipython3",
   "version": "3.12.7"
  }
 },
 "nbformat": 4,
 "nbformat_minor": 5
}
