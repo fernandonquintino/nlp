{
 "cells": [
  {
   "cell_type": "code",
   "execution_count": 2,
   "id": "e6ab008f-548c-43b8-9b02-c4bfe756dae2",
   "metadata": {},
   "outputs": [],
   "source": [
    "import os\n",
    "os.chdir('../')"
   ]
  },
  {
   "cell_type": "code",
   "execution_count": 3,
   "id": "4bface18-0b08-4538-a5b7-971433e996c6",
   "metadata": {},
   "outputs": [],
   "source": [
    "import sys\n",
    "import pandas as pd\n",
    "import numpy as np\n",
    "import seaborn as sns\n",
    "import matplotlib.pyplot as plt\n",
    "\n",
    "import re\n",
    "import unicodedata\n",
    "import string\n",
    "from collections import Counter\n",
    "\n",
    "from wordcloud import WordCloud\n",
    "\n",
    "import nltk\n",
    "from nltk.tokenize import word_tokenize\n",
    "from nltk.corpus import stopwords\n",
    "from nltk.stem import WordNetLemmatizer\n",
    "from nltk.sentiment import SentimentIntensityAnalyzer\n",
    "\n",
    "from sklearn.feature_extraction.text import CountVectorizer\n",
    "\n",
    "import spacy\n",
    "\n",
    "from textblob import TextBlob\n",
    "\n",
    "from symspellpy.symspellpy import SymSpell, Verbosity\n",
    "\n",
    "import emoji\n",
    "\n",
    "from src.llm_preprocessing import generate_whitelist"
   ]
  },
  {
   "cell_type": "code",
   "execution_count": 3,
   "id": "09b320a2-8dca-49f5-be0a-cc0a91031ab9",
   "metadata": {},
   "outputs": [],
   "source": [
    "pd.set_option('display.max_rows', 30)\n",
    "pd.set_option('display.max_colwidth', None)"
   ]
  },
  {
   "cell_type": "code",
   "execution_count": 4,
   "id": "b662003f-fd35-4d79-b597-3ece34243958",
   "metadata": {},
   "outputs": [],
   "source": [
    "# nltk.download(\"punkt\")\n",
    "# nltk.download(\"wordnet\")\n",
    "# nltk.download(\"stopwords\")\n",
    "# nltk.download('omw-1.4')\n",
    "# nltk.download('vader_lexicon')"
   ]
  },
  {
   "cell_type": "code",
   "execution_count": 5,
   "id": "e5301b81-54e2-4fff-8f3e-9db26bd4112f",
   "metadata": {},
   "outputs": [
    {
     "data": {
      "text/plain": [
       "True"
      ]
     },
     "execution_count": 5,
     "metadata": {},
     "output_type": "execute_result"
    }
   ],
   "source": [
    "sym_spell = SymSpell(max_dictionary_edit_distance=2, prefix_length=7)\n",
    "dictionary_path = 'data/dictionaries/frequency_dictionary_en_82_765.txt'  # included in the repo\n",
    "sym_spell.load_dictionary(dictionary_path, term_index=0, count_index=1)"
   ]
  },
  {
   "cell_type": "code",
   "execution_count": 6,
   "id": "733fb756-28e9-48ce-b464-0dbadcc443dd",
   "metadata": {},
   "outputs": [],
   "source": [
    "df_pretreatment = pd.read_csv('data/processed/final_label.csv')\n",
    "df = df_pretreatment.copy()"
   ]
  },
  {
   "cell_type": "code",
   "execution_count": 7,
   "id": "aac0d34f-3414-4896-9856-ebda2c01f7df",
   "metadata": {},
   "outputs": [
    {
     "data": {
      "text/html": [
       "<div>\n",
       "<style scoped>\n",
       "    .dataframe tbody tr th:only-of-type {\n",
       "        vertical-align: middle;\n",
       "    }\n",
       "\n",
       "    .dataframe tbody tr th {\n",
       "        vertical-align: top;\n",
       "    }\n",
       "\n",
       "    .dataframe thead th {\n",
       "        text-align: right;\n",
       "    }\n",
       "</style>\n",
       "<table border=\"1\" class=\"dataframe\">\n",
       "  <thead>\n",
       "    <tr style=\"text-align: right;\">\n",
       "      <th></th>\n",
       "      <th>text</th>\n",
       "      <th>target</th>\n",
       "    </tr>\n",
       "  </thead>\n",
       "  <tbody>\n",
       "    <tr>\n",
       "      <th>0</th>\n",
       "      <td>judging from previous posts this used to be a good place , but not any longer .</td>\n",
       "      <td>0.0</td>\n",
       "    </tr>\n",
       "    <tr>\n",
       "      <th>1</th>\n",
       "      <td>we , there were four of us , arrived at noon - the place was empty - and the staff acted like we were imposing on them and they were very rude .</td>\n",
       "      <td>0.0</td>\n",
       "    </tr>\n",
       "    <tr>\n",
       "      <th>2</th>\n",
       "      <td>they never brought us complimentary noodles , ignored repeated requests for sugar , and threw our dishes on the table .</td>\n",
       "      <td>0.0</td>\n",
       "    </tr>\n",
       "    <tr>\n",
       "      <th>3</th>\n",
       "      <td>the food was lousy - too sweet or too salty and the portions tiny .</td>\n",
       "      <td>0.0</td>\n",
       "    </tr>\n",
       "    <tr>\n",
       "      <th>4</th>\n",
       "      <td>after all that , they complained to me about the small tip .</td>\n",
       "      <td>0.0</td>\n",
       "    </tr>\n",
       "  </tbody>\n",
       "</table>\n",
       "</div>"
      ],
      "text/plain": [
       "                                                                                                                                               text  \\\n",
       "0                                                                   judging from previous posts this used to be a good place , but not any longer .   \n",
       "1  we , there were four of us , arrived at noon - the place was empty - and the staff acted like we were imposing on them and they were very rude .   \n",
       "2                           they never brought us complimentary noodles , ignored repeated requests for sugar , and threw our dishes on the table .   \n",
       "3                                                                               the food was lousy - too sweet or too salty and the portions tiny .   \n",
       "4                                                                                      after all that , they complained to me about the small tip .   \n",
       "\n",
       "   target  \n",
       "0     0.0  \n",
       "1     0.0  \n",
       "2     0.0  \n",
       "3     0.0  \n",
       "4     0.0  "
      ]
     },
     "execution_count": 7,
     "metadata": {},
     "output_type": "execute_result"
    }
   ],
   "source": [
    "df.head(5)"
   ]
  },
  {
   "cell_type": "markdown",
   "id": "b97e5b96-b410-4b71-a9f8-654845a71428",
   "metadata": {},
   "source": [
    "# Text processing pipeline"
   ]
  },
  {
   "cell_type": "markdown",
   "id": "5beb578e-7343-41a7-89fc-4dfdda823a68",
   "metadata": {},
   "source": [
    "## Clean text"
   ]
  },
  {
   "cell_type": "markdown",
   "id": "c37a0e7f-50ad-4a8e-8aa4-f228909ea10a",
   "metadata": {},
   "source": [
    "### Check for emojis"
   ]
  },
  {
   "cell_type": "code",
   "execution_count": 8,
   "id": "2db6b8fc-03c4-465c-bd06-aa2c8c0041df",
   "metadata": {},
   "outputs": [],
   "source": [
    "def contains_emoji(text):\n",
    "    return any(char in emoji.EMOJI_DATA for char in text)"
   ]
  },
  {
   "cell_type": "code",
   "execution_count": 9,
   "id": "05c347f6-2a93-414f-8fad-831a8b123f18",
   "metadata": {},
   "outputs": [
    {
     "name": "stdout",
     "output_type": "stream",
     "text": [
      "has_emoji\n",
      "False    587\n",
      "Name: count, dtype: int64\n"
     ]
    }
   ],
   "source": [
    "df['has_emoji'] = df['text'].apply(contains_emoji)\n",
    "\n",
    "# See how many have emojis\n",
    "print(df['has_emoji'].value_counts())"
   ]
  },
  {
   "cell_type": "markdown",
   "id": "b3ec61c4-a597-43eb-bca6-321d31adaf15",
   "metadata": {},
   "source": [
    "There are no emojis, but it is important to keep in the pipeline in case the test set has"
   ]
  },
  {
   "cell_type": "markdown",
   "id": "5d1c077e-c754-467e-9de3-066709ac9129",
   "metadata": {},
   "source": [
    "### Check for numbers"
   ]
  },
  {
   "cell_type": "code",
   "execution_count": 10,
   "id": "00222553-b770-4952-af80-9be7f79ca98b",
   "metadata": {},
   "outputs": [
    {
     "name": "stdout",
     "output_type": "stream",
     "text": [
      "has_number\n",
      "False    560\n",
      "True      27\n",
      "Name: count, dtype: int64\n"
     ]
    }
   ],
   "source": [
    "df['has_number'] = df['text'].str.contains(r\"\\d\")\n",
    "print(df['has_number'].value_counts())"
   ]
  },
  {
   "cell_type": "code",
   "execution_count": 11,
   "id": "d559666e-aeea-476a-b58d-396c2c61d77a",
   "metadata": {},
   "outputs": [
    {
     "data": {
      "text/html": [
       "<div>\n",
       "<style scoped>\n",
       "    .dataframe tbody tr th:only-of-type {\n",
       "        vertical-align: middle;\n",
       "    }\n",
       "\n",
       "    .dataframe tbody tr th {\n",
       "        vertical-align: top;\n",
       "    }\n",
       "\n",
       "    .dataframe thead th {\n",
       "        text-align: right;\n",
       "    }\n",
       "</style>\n",
       "<table border=\"1\" class=\"dataframe\">\n",
       "  <thead>\n",
       "    <tr style=\"text-align: right;\">\n",
       "      <th></th>\n",
       "      <th>text</th>\n",
       "      <th>target</th>\n",
       "      <th>has_emoji</th>\n",
       "      <th>has_number</th>\n",
       "    </tr>\n",
       "  </thead>\n",
       "  <tbody>\n",
       "    <tr>\n",
       "      <th>16</th>\n",
       "      <td>went on a 3 day oyster binge , with fish bringing up the closing , and i am so glad this was the place it o trip ended , because it was so great !</td>\n",
       "      <td>1.0</td>\n",
       "      <td>False</td>\n",
       "      <td>True</td>\n",
       "    </tr>\n",
       "    <tr>\n",
       "      <th>27</th>\n",
       "      <td>we went around 9 : 30 on a friday and it had died down a bit by then so the service was great !</td>\n",
       "      <td>1.0</td>\n",
       "      <td>False</td>\n",
       "      <td>True</td>\n",
       "    </tr>\n",
       "    <tr>\n",
       "      <th>51</th>\n",
       "      <td>$ 6 and there is much tasty food , all of it fresh and continually refilled .</td>\n",
       "      <td>1.0</td>\n",
       "      <td>False</td>\n",
       "      <td>True</td>\n",
       "    </tr>\n",
       "  </tbody>\n",
       "</table>\n",
       "</div>"
      ],
      "text/plain": [
       "                                                                                                                                                  text  \\\n",
       "16  went on a 3 day oyster binge , with fish bringing up the closing , and i am so glad this was the place it o trip ended , because it was so great !   \n",
       "27                                                     we went around 9 : 30 on a friday and it had died down a bit by then so the service was great !   \n",
       "51                                                                       $ 6 and there is much tasty food , all of it fresh and continually refilled .   \n",
       "\n",
       "    target  has_emoji  has_number  \n",
       "16     1.0      False        True  \n",
       "27     1.0      False        True  \n",
       "51     1.0      False        True  "
      ]
     },
     "execution_count": 11,
     "metadata": {},
     "output_type": "execute_result"
    }
   ],
   "source": [
    "df[df['has_number']].head(3)"
   ]
  },
  {
   "cell_type": "code",
   "execution_count": 12,
   "id": "e6a8d9d7-9538-4c50-b2b0-1a3555599351",
   "metadata": {},
   "outputs": [],
   "source": [
    "df['has_rating_number'] = df['text'].str.contains(r\"\\b(?:give it a|rated?|score|rate|i give|i give this|its a|it's a|i rate|rating|^)(?:\\s+)?(?:10|[0-9])\\b\", flags=re.IGNORECASE)"
   ]
  },
  {
   "cell_type": "code",
   "execution_count": 13,
   "id": "dc64c648-34ab-4fbb-84e8-a245d033d2eb",
   "metadata": {},
   "outputs": [
    {
     "data": {
      "text/html": [
       "<div>\n",
       "<style scoped>\n",
       "    .dataframe tbody tr th:only-of-type {\n",
       "        vertical-align: middle;\n",
       "    }\n",
       "\n",
       "    .dataframe tbody tr th {\n",
       "        vertical-align: top;\n",
       "    }\n",
       "\n",
       "    .dataframe thead th {\n",
       "        text-align: right;\n",
       "    }\n",
       "</style>\n",
       "<table border=\"1\" class=\"dataframe\">\n",
       "  <thead>\n",
       "    <tr style=\"text-align: right;\">\n",
       "      <th></th>\n",
       "      <th>text</th>\n",
       "      <th>target</th>\n",
       "      <th>has_emoji</th>\n",
       "      <th>has_number</th>\n",
       "      <th>has_rating_number</th>\n",
       "    </tr>\n",
       "  </thead>\n",
       "  <tbody>\n",
       "    <tr>\n",
       "      <th>414</th>\n",
       "      <td>but overall i give it a 10</td>\n",
       "      <td>1.0</td>\n",
       "      <td>False</td>\n",
       "      <td>True</td>\n",
       "      <td>True</td>\n",
       "    </tr>\n",
       "    <tr>\n",
       "      <th>415</th>\n",
       "      <td>10</td>\n",
       "      <td>1.0</td>\n",
       "      <td>False</td>\n",
       "      <td>True</td>\n",
       "      <td>True</td>\n",
       "    </tr>\n",
       "  </tbody>\n",
       "</table>\n",
       "</div>"
      ],
      "text/plain": [
       "                           text  target  has_emoji  has_number  \\\n",
       "414  but overall i give it a 10     1.0      False        True   \n",
       "415                          10     1.0      False        True   \n",
       "\n",
       "     has_rating_number  \n",
       "414               True  \n",
       "415               True  "
      ]
     },
     "execution_count": 13,
     "metadata": {},
     "output_type": "execute_result"
    }
   ],
   "source": [
    "df[df['has_rating_number']]"
   ]
  },
  {
   "cell_type": "markdown",
   "id": "235a1c6f-8f2e-4096-8a2c-0405c2c1b8f1",
   "metadata": {},
   "source": [
    "Most numbers are useless but some cases contain ratings. The feature has_rating_number captures this using a common words associated with a rate"
   ]
  },
  {
   "cell_type": "markdown",
   "id": "d8de109e-4916-40e4-a3d6-04fbc450cd1b",
   "metadata": {},
   "source": [
    "### Clean text function"
   ]
  },
  {
   "cell_type": "code",
   "execution_count": 14,
   "id": "a930f640-54f8-4202-b973-07f2bb8b93e0",
   "metadata": {},
   "outputs": [],
   "source": [
    "def clean_text(text):\n",
    "    text = text.lower() # Lower case\n",
    "    text = emoji.demojize(text) # transform emojis\n",
    "    text = re.sub(r\"\\d+\", \"\", text)  # remove digits\n",
    "    text = re.sub(r\"[^\\w\\s!]\", \"\", text)  # keep only words, spaces, and !\n",
    "    text = re.sub(r\"\\s+\", \" \", text).strip() # remove whitespaces\n",
    "    return text"
   ]
  },
  {
   "cell_type": "code",
   "execution_count": 15,
   "id": "e10b8727-3289-4ddf-b7b5-962ff662c533",
   "metadata": {},
   "outputs": [],
   "source": [
    "df['text_v1'] = df['text'].apply(clean_text)"
   ]
  },
  {
   "cell_type": "markdown",
   "id": "42851a1e-24a6-4026-90cf-dd5b42afc74c",
   "metadata": {},
   "source": [
    "## Remove typos"
   ]
  },
  {
   "cell_type": "markdown",
   "id": "c14e7622-2282-4e1d-83b0-4b1bdaec1ce8",
   "metadata": {},
   "source": [
    "The idea is to correct some typos using sym_spell dictionary. Some food names such as mizu, confit, foie gras, etc can be inadequately replaced. To evaluate with that a new column is created with all corrections made per text"
   ]
  },
  {
   "cell_type": "code",
   "execution_count": 16,
   "id": "83440e7b-0612-4440-9be3-26dab97a0ccc",
   "metadata": {},
   "outputs": [],
   "source": [
    "correction_counter = Counter()\n",
    "blocklist = {'the': 'the', '!': '!', 's': 's', 'n': 'n', 'wa': 'was'}"
   ]
  },
  {
   "cell_type": "code",
   "execution_count": 17,
   "id": "6be5d27c-8ca0-4b5b-b0c4-8324b4d14862",
   "metadata": {},
   "outputs": [],
   "source": [
    "def correct_typos(text, blocklist={'the': 'the', '!': '!', 's': 's', 'n': 'n', 'wa': 'was'}, whitelist=[]):\n",
    "    corrected_words = []\n",
    "    corrections_in_row = []\n",
    "    \n",
    "    for word in text.split():\n",
    "        # Always respect blocklist and whitelist first\n",
    "        if word in blocklist or word in whitelist or len(word) <= 2:\n",
    "            corrected_words.append(word)\n",
    "            continue\n",
    "        \n",
    "        # Try correcting\n",
    "        suggestions = sym_spell.lookup(word, Verbosity.CLOSEST, max_edit_distance=2)\n",
    "        \n",
    "        if suggestions and suggestions[0].term != word:\n",
    "            correction_counter[(word, suggestions[0].term)] += 1\n",
    "            corrected_words.append(suggestions[0].term)\n",
    "            corrections_in_row.append(word)  # Log the original word\n",
    "        else:\n",
    "            corrected_words.append(word)\n",
    "    \n",
    "    return \" \".join(corrected_words), \"; \".join(corrections_in_row) if corrections_in_row else None\n"
   ]
  },
  {
   "cell_type": "code",
   "execution_count": 18,
   "id": "b981f047-0447-47f6-865e-97c0bc3ed555",
   "metadata": {},
   "outputs": [],
   "source": [
    "df[['corrected_text', 'corrections']] = df['text_v1'].apply(lambda x: pd.Series(correct_typos(x)))"
   ]
  },
  {
   "cell_type": "code",
   "execution_count": 19,
   "id": "f05b26a1-cfbf-459c-b1bc-6918148428b8",
   "metadata": {},
   "outputs": [
    {
     "data": {
      "text/html": [
       "<div>\n",
       "<style scoped>\n",
       "    .dataframe tbody tr th:only-of-type {\n",
       "        vertical-align: middle;\n",
       "    }\n",
       "\n",
       "    .dataframe tbody tr th {\n",
       "        vertical-align: top;\n",
       "    }\n",
       "\n",
       "    .dataframe thead th {\n",
       "        text-align: right;\n",
       "    }\n",
       "</style>\n",
       "<table border=\"1\" class=\"dataframe\">\n",
       "  <thead>\n",
       "    <tr style=\"text-align: right;\">\n",
       "      <th></th>\n",
       "      <th>corrected_text</th>\n",
       "      <th>corrections</th>\n",
       "    </tr>\n",
       "  </thead>\n",
       "  <tbody>\n",
       "    <tr>\n",
       "      <th>8</th>\n",
       "      <td>the duck conflict is always amazing and the foil gas terrine with figs was out of this world</td>\n",
       "      <td>confit; foie; gras</td>\n",
       "    </tr>\n",
       "    <tr>\n",
       "      <th>12</th>\n",
       "      <td>live asked a cart attendant for a lotus leaf wrapped rice and she replied back rice and just walked away</td>\n",
       "      <td>ive</td>\n",
       "    </tr>\n",
       "    <tr>\n",
       "      <th>13</th>\n",
       "      <td>i had to ask her three times before she finally came back with the dish live requested</td>\n",
       "      <td>ive</td>\n",
       "    </tr>\n",
       "    <tr>\n",
       "      <th>14</th>\n",
       "      <td>chow fun was dry pork she mai was more than usually greasy and had to share a table with loud and rude family</td>\n",
       "      <td>shu</td>\n",
       "    </tr>\n",
       "    <tr>\n",
       "      <th>17</th>\n",
       "      <td>service was device oysters where a sensual as they come and the price ca n t be beat ! ! !</td>\n",
       "      <td>devine</td>\n",
       "    </tr>\n",
       "  </tbody>\n",
       "</table>\n",
       "</div>"
      ],
      "text/plain": [
       "                                                                                                   corrected_text  \\\n",
       "8                    the duck conflict is always amazing and the foil gas terrine with figs was out of this world   \n",
       "12       live asked a cart attendant for a lotus leaf wrapped rice and she replied back rice and just walked away   \n",
       "13                         i had to ask her three times before she finally came back with the dish live requested   \n",
       "14  chow fun was dry pork she mai was more than usually greasy and had to share a table with loud and rude family   \n",
       "17                     service was device oysters where a sensual as they come and the price ca n t be beat ! ! !   \n",
       "\n",
       "           corrections  \n",
       "8   confit; foie; gras  \n",
       "12                 ive  \n",
       "13                 ive  \n",
       "14                 shu  \n",
       "17              devine  "
      ]
     },
     "execution_count": 19,
     "metadata": {},
     "output_type": "execute_result"
    }
   ],
   "source": [
    "df[['corrected_text', 'corrections']].loc[~df['corrections'].isna()].head()"
   ]
  },
  {
   "cell_type": "markdown",
   "id": "5f6922d2-16f0-444a-8c3c-824b605e2683",
   "metadata": {},
   "source": [
    "### Creating a custom whitelist using llm"
   ]
  },
  {
   "cell_type": "markdown",
   "id": "356813ac-2e0a-4447-9fda-75b358a939f8",
   "metadata": {},
   "source": [
    "With the corrections column, the idea is to create a whitelist to avoid wrong corrections. To do that, a gpt4 model is called to evaluate each of the corrections and say if they are adequate or not. Using those results the whitelist is created. It is then hardcoded to avoid having to run the llm everytime"
   ]
  },
  {
   "cell_type": "code",
   "execution_count": 20,
   "id": "bc438420-83af-4b00-b494-7e42ef0161c5",
   "metadata": {},
   "outputs": [],
   "source": [
    "df_corrections = df.loc[df['corrections'].notna(), [\"corrected_text\", \"corrections\"]]\n",
    "# results = generate_whitelist(df_corrections, 'corrected_text', model_name='gpt4')\n",
    "# df_corrections['result'] = results"
   ]
  },
  {
   "cell_type": "code",
   "execution_count": 21,
   "id": "5b564af6-5471-424d-8650-e93fcd9bcc30",
   "metadata": {},
   "outputs": [],
   "source": [
    "def apply_whitelist(df):\n",
    "    whitelist_set = set()\n",
    "\n",
    "    for idx, row in df.iterrows():\n",
    "        words = [w.strip() for w in row['corrections'].split(';') if w.strip()]\n",
    "        results = row['result']\n",
    "\n",
    "        for word, flag in zip(words, results):\n",
    "            if flag == 1:\n",
    "                whitelist_set.add(word)\n",
    "\n",
    "    return sorted(whitelist_set)"
   ]
  },
  {
   "cell_type": "code",
   "execution_count": 22,
   "id": "3e50b51b-14ff-41c7-9591-ee3cbe82e3ed",
   "metadata": {},
   "outputs": [],
   "source": [
    "# whitelist = apply_whitelist(df_corrections)"
   ]
  },
  {
   "cell_type": "code",
   "execution_count": 23,
   "id": "2fc7212c-f7ad-44bb-9c0d-e60125230d90",
   "metadata": {},
   "outputs": [],
   "source": [
    "whitelist = ['branzino', 'carozza', 'confit', 'congee', 'cozy', 'dal', 'facie', 'favorite', 'fixe', 'flavoring', 'foie', 'frites', 'gras', 'grazie', 'gulab', 'jamun', 'kha', 'maitre', 'medicore', 'mizu', 'mom', 'msg', 'neighborhood', 'noir', 'nyc', 'overpack', 'porcini', 'prima', 'prixe', 'russe', 'shabu', 'svc', 'tartare', 'theater', 'tristate', 'uncourteous', 'volare', 'wks']"
   ]
  },
  {
   "cell_type": "markdown",
   "id": "207b17bf-9ec2-440e-9301-8c2237011ef5",
   "metadata": {},
   "source": [
    "### Final typo corrections"
   ]
  },
  {
   "cell_type": "markdown",
   "id": "429fc2f2-62cc-47c2-8b85-1a1a090b928a",
   "metadata": {},
   "source": [
    "With the withelist a new column with fine-processed text is created"
   ]
  },
  {
   "cell_type": "code",
   "execution_count": 24,
   "id": "7c6c6146-257c-4f3f-86e8-cd9727b46a40",
   "metadata": {},
   "outputs": [],
   "source": [
    "df['text_v2'] = df[\"text_v1\"].apply(lambda x: pd.Series(correct_typos(x, blocklist, whitelist)))[0]"
   ]
  },
  {
   "cell_type": "code",
   "execution_count": 25,
   "id": "5fe5f9bf-995c-4093-825a-767772910990",
   "metadata": {},
   "outputs": [],
   "source": [
    "df.drop(columns=['corrected_text', 'corrections'], inplace=True)"
   ]
  },
  {
   "cell_type": "markdown",
   "id": "614cdd32-3076-4798-8b31-f0a59490f463",
   "metadata": {},
   "source": [
    "## Lemmatize and stopwords"
   ]
  },
  {
   "cell_type": "markdown",
   "id": "d26b9e91-3f74-41fa-b474-72e35e3eff6c",
   "metadata": {},
   "source": [
    "Lemmatize and stopwords will be evaluated in more details in the EDA phase. Spacy was used instead of nltk because it was lemmatizing 'us' to 'u'. Some custom stopwords were added"
   ]
  },
  {
   "cell_type": "code",
   "execution_count": 26,
   "id": "0c37911e-6621-40e2-b1d0-faeb2a4cb08f",
   "metadata": {},
   "outputs": [],
   "source": [
    "nlp = spacy.load('en_core_web_sm')\n",
    "\n",
    "def spacy_lemmatize(text):\n",
    "    doc = nlp(text)\n",
    "    return \" \".join([token.lemma_ for token in doc])"
   ]
  },
  {
   "cell_type": "code",
   "execution_count": 27,
   "id": "4c7e24e6-888b-4ea6-acc2-f8f482bddbbe",
   "metadata": {},
   "outputs": [],
   "source": [
    "stop_words = set(stopwords.words(\"english\"))\n",
    "custom_stopwords = {'I', 'i', 'n', 'wa', 's'}\n",
    "stop_words.update(custom_stopwords)\n",
    "\n",
    "def remove_stopwords(text):\n",
    "    tokens = text.split()\n",
    "    return \" \".join([w for w in tokens if w not in stop_words])"
   ]
  },
  {
   "cell_type": "markdown",
   "id": "c697b9df-6403-4b73-b951-121533c314cf",
   "metadata": {},
   "source": [
    "# Full treatment pipeline"
   ]
  },
  {
   "cell_type": "markdown",
   "id": "2ba324e8-d4ba-4fc2-8fa5-fd94efdce2f2",
   "metadata": {},
   "source": [
    "Incorporating all steps in a pipeline"
   ]
  },
  {
   "cell_type": "code",
   "execution_count": 28,
   "id": "cb35abf4-d45f-485d-9409-0c86d94b5b56",
   "metadata": {},
   "outputs": [],
   "source": [
    "def full_preprocess(text):\n",
    "    text = clean_text(text)\n",
    "    text = correct_typos(text, blocklist, whitelist)[0]\n",
    "    text = spacy_lemmatize(text)\n",
    "    text = remove_stopwords(text)\n",
    "    return text"
   ]
  },
  {
   "cell_type": "code",
   "execution_count": 29,
   "id": "b2f8cba8-77c7-4a21-aea6-bd51638aecfc",
   "metadata": {},
   "outputs": [
    {
     "data": {
      "text/html": [
       "<div>\n",
       "<style scoped>\n",
       "    .dataframe tbody tr th:only-of-type {\n",
       "        vertical-align: middle;\n",
       "    }\n",
       "\n",
       "    .dataframe tbody tr th {\n",
       "        vertical-align: top;\n",
       "    }\n",
       "\n",
       "    .dataframe thead th {\n",
       "        text-align: right;\n",
       "    }\n",
       "</style>\n",
       "<table border=\"1\" class=\"dataframe\">\n",
       "  <thead>\n",
       "    <tr style=\"text-align: right;\">\n",
       "      <th></th>\n",
       "      <th>text</th>\n",
       "      <th>target</th>\n",
       "      <th>has_emoji</th>\n",
       "      <th>has_number</th>\n",
       "      <th>has_rating_number</th>\n",
       "      <th>text_v1</th>\n",
       "      <th>text_v2</th>\n",
       "    </tr>\n",
       "  </thead>\n",
       "  <tbody>\n",
       "    <tr>\n",
       "      <th>0</th>\n",
       "      <td>judging from previous posts this used to be a good place , but not any longer .</td>\n",
       "      <td>0.0</td>\n",
       "      <td>False</td>\n",
       "      <td>False</td>\n",
       "      <td>False</td>\n",
       "      <td>judging from previous posts this used to be a good place but not any longer</td>\n",
       "      <td>judging from previous posts this used to be a good place but not any longer</td>\n",
       "    </tr>\n",
       "    <tr>\n",
       "      <th>1</th>\n",
       "      <td>we , there were four of us , arrived at noon - the place was empty - and the staff acted like we were imposing on them and they were very rude .</td>\n",
       "      <td>0.0</td>\n",
       "      <td>False</td>\n",
       "      <td>False</td>\n",
       "      <td>False</td>\n",
       "      <td>we there were four of us arrived at noon the place was empty and the staff acted like we were imposing on them and they were very rude</td>\n",
       "      <td>we there were four of us arrived at noon the place was empty and the staff acted like we were imposing on them and they were very rude</td>\n",
       "    </tr>\n",
       "    <tr>\n",
       "      <th>2</th>\n",
       "      <td>they never brought us complimentary noodles , ignored repeated requests for sugar , and threw our dishes on the table .</td>\n",
       "      <td>0.0</td>\n",
       "      <td>False</td>\n",
       "      <td>False</td>\n",
       "      <td>False</td>\n",
       "      <td>they never brought us complimentary noodles ignored repeated requests for sugar and threw our dishes on the table</td>\n",
       "      <td>they never brought us complimentary noodles ignored repeated requests for sugar and threw our dishes on the table</td>\n",
       "    </tr>\n",
       "    <tr>\n",
       "      <th>3</th>\n",
       "      <td>the food was lousy - too sweet or too salty and the portions tiny .</td>\n",
       "      <td>0.0</td>\n",
       "      <td>False</td>\n",
       "      <td>False</td>\n",
       "      <td>False</td>\n",
       "      <td>the food was lousy too sweet or too salty and the portions tiny</td>\n",
       "      <td>the food was lousy too sweet or too salty and the portions tiny</td>\n",
       "    </tr>\n",
       "    <tr>\n",
       "      <th>4</th>\n",
       "      <td>after all that , they complained to me about the small tip .</td>\n",
       "      <td>0.0</td>\n",
       "      <td>False</td>\n",
       "      <td>False</td>\n",
       "      <td>False</td>\n",
       "      <td>after all that they complained to me about the small tip</td>\n",
       "      <td>after all that they complained to me about the small tip</td>\n",
       "    </tr>\n",
       "    <tr>\n",
       "      <th>...</th>\n",
       "      <td>...</td>\n",
       "      <td>...</td>\n",
       "      <td>...</td>\n",
       "      <td>...</td>\n",
       "      <td>...</td>\n",
       "      <td>...</td>\n",
       "      <td>...</td>\n",
       "    </tr>\n",
       "    <tr>\n",
       "      <th>582</th>\n",
       "      <td>mizu is the japenese find in grammercy .</td>\n",
       "      <td>1.0</td>\n",
       "      <td>False</td>\n",
       "      <td>False</td>\n",
       "      <td>False</td>\n",
       "      <td>mizu is the japenese find in grammercy</td>\n",
       "      <td>mizu is the japanese find in gramercy</td>\n",
       "    </tr>\n",
       "    <tr>\n",
       "      <th>583</th>\n",
       "      <td>while their kitchen food is delicious , their sushi is out of this world .</td>\n",
       "      <td>1.0</td>\n",
       "      <td>False</td>\n",
       "      <td>False</td>\n",
       "      <td>False</td>\n",
       "      <td>while their kitchen food is delicious their sushi is out of this world</td>\n",
       "      <td>while their kitchen food is delicious their sushi is out of this world</td>\n",
       "    </tr>\n",
       "    <tr>\n",
       "      <th>584</th>\n",
       "      <td>mizu is home to creative and unique rolls not to found anywhere else .</td>\n",
       "      <td>1.0</td>\n",
       "      <td>False</td>\n",
       "      <td>False</td>\n",
       "      <td>False</td>\n",
       "      <td>mizu is home to creative and unique rolls not to found anywhere else</td>\n",
       "      <td>mizu is home to creative and unique rolls not to found anywhere else</td>\n",
       "    </tr>\n",
       "    <tr>\n",
       "      <th>585</th>\n",
       "      <td>not only is the cuisine the best around , the service has always been attentive and charming .</td>\n",
       "      <td>1.0</td>\n",
       "      <td>False</td>\n",
       "      <td>False</td>\n",
       "      <td>False</td>\n",
       "      <td>not only is the cuisine the best around the service has always been attentive and charming</td>\n",
       "      <td>not only is the cuisine the best around the service has always been attentive and charming</td>\n",
       "    </tr>\n",
       "    <tr>\n",
       "      <th>586</th>\n",
       "      <td>warning : you may find it difficult to dine at other japanese restaurants after a visit to mizu !</td>\n",
       "      <td>1.0</td>\n",
       "      <td>False</td>\n",
       "      <td>False</td>\n",
       "      <td>False</td>\n",
       "      <td>warning you may find it difficult to dine at other japanese restaurants after a visit to mizu !</td>\n",
       "      <td>warning you may find it difficult to dine at other japanese restaurants after a visit to mizu !</td>\n",
       "    </tr>\n",
       "  </tbody>\n",
       "</table>\n",
       "<p>587 rows × 7 columns</p>\n",
       "</div>"
      ],
      "text/plain": [
       "                                                                                                                                                 text  \\\n",
       "0                                                                     judging from previous posts this used to be a good place , but not any longer .   \n",
       "1    we , there were four of us , arrived at noon - the place was empty - and the staff acted like we were imposing on them and they were very rude .   \n",
       "2                             they never brought us complimentary noodles , ignored repeated requests for sugar , and threw our dishes on the table .   \n",
       "3                                                                                 the food was lousy - too sweet or too salty and the portions tiny .   \n",
       "4                                                                                        after all that , they complained to me about the small tip .   \n",
       "..                                                                                                                                                ...   \n",
       "582                                                                                                          mizu is the japenese find in grammercy .   \n",
       "583                                                                        while their kitchen food is delicious , their sushi is out of this world .   \n",
       "584                                                                            mizu is home to creative and unique rolls not to found anywhere else .   \n",
       "585                                                    not only is the cuisine the best around , the service has always been attentive and charming .   \n",
       "586                                                 warning : you may find it difficult to dine at other japanese restaurants after a visit to mizu !   \n",
       "\n",
       "     target  has_emoji  has_number  has_rating_number  \\\n",
       "0       0.0      False       False              False   \n",
       "1       0.0      False       False              False   \n",
       "2       0.0      False       False              False   \n",
       "3       0.0      False       False              False   \n",
       "4       0.0      False       False              False   \n",
       "..      ...        ...         ...                ...   \n",
       "582     1.0      False       False              False   \n",
       "583     1.0      False       False              False   \n",
       "584     1.0      False       False              False   \n",
       "585     1.0      False       False              False   \n",
       "586     1.0      False       False              False   \n",
       "\n",
       "                                                                                                                                    text_v1  \\\n",
       "0                                                               judging from previous posts this used to be a good place but not any longer   \n",
       "1    we there were four of us arrived at noon the place was empty and the staff acted like we were imposing on them and they were very rude   \n",
       "2                         they never brought us complimentary noodles ignored repeated requests for sugar and threw our dishes on the table   \n",
       "3                                                                           the food was lousy too sweet or too salty and the portions tiny   \n",
       "4                                                                                  after all that they complained to me about the small tip   \n",
       "..                                                                                                                                      ...   \n",
       "582                                                                                                  mizu is the japenese find in grammercy   \n",
       "583                                                                  while their kitchen food is delicious their sushi is out of this world   \n",
       "584                                                                    mizu is home to creative and unique rolls not to found anywhere else   \n",
       "585                                              not only is the cuisine the best around the service has always been attentive and charming   \n",
       "586                                         warning you may find it difficult to dine at other japanese restaurants after a visit to mizu !   \n",
       "\n",
       "                                                                                                                                    text_v2  \n",
       "0                                                               judging from previous posts this used to be a good place but not any longer  \n",
       "1    we there were four of us arrived at noon the place was empty and the staff acted like we were imposing on them and they were very rude  \n",
       "2                         they never brought us complimentary noodles ignored repeated requests for sugar and threw our dishes on the table  \n",
       "3                                                                           the food was lousy too sweet or too salty and the portions tiny  \n",
       "4                                                                                  after all that they complained to me about the small tip  \n",
       "..                                                                                                                                      ...  \n",
       "582                                                                                                   mizu is the japanese find in gramercy  \n",
       "583                                                                  while their kitchen food is delicious their sushi is out of this world  \n",
       "584                                                                    mizu is home to creative and unique rolls not to found anywhere else  \n",
       "585                                              not only is the cuisine the best around the service has always been attentive and charming  \n",
       "586                                         warning you may find it difficult to dine at other japanese restaurants after a visit to mizu !  \n",
       "\n",
       "[587 rows x 7 columns]"
      ]
     },
     "execution_count": 29,
     "metadata": {},
     "output_type": "execute_result"
    }
   ],
   "source": [
    "df"
   ]
  },
  {
   "cell_type": "code",
   "execution_count": 30,
   "id": "7464d687-d241-4915-9b3f-81c1f79bc2f0",
   "metadata": {},
   "outputs": [],
   "source": [
    "df = df_pretreatment.copy()"
   ]
  },
  {
   "cell_type": "code",
   "execution_count": 31,
   "id": "9e0e8fde-9eef-439b-9115-2b28ed566df1",
   "metadata": {},
   "outputs": [],
   "source": [
    "df = df_pretreatment.copy()\n",
    "df['has_number'] = df['text'].str.contains(r\"\\d\")\n",
    "df['has_rating_number'] = df[\"text\"].str.contains(\n",
    "    r\"\\b(?:give it a|rated?|score|rate|i give|i give this|its a|it's a|i rate|rating|^)(?:\\s+)?(?:10|[0-9])\\b\",\n",
    "    flags=re.IGNORECASE\n",
    ")\n",
    "df['final_text'] = df['text'].apply(full_preprocess)"
   ]
  },
  {
   "cell_type": "code",
   "execution_count": 32,
   "id": "32dc5f6d-4586-45ec-9f4d-2da6a874eb3b",
   "metadata": {},
   "outputs": [],
   "source": [
    "def light_clean_text_for_bert(text):\n",
    "    text = emoji.demojize(text)\n",
    "    text = re.sub(r\"\\s+\", \" \", text).strip()\n",
    "    return text"
   ]
  },
  {
   "cell_type": "code",
   "execution_count": 33,
   "id": "a224d7a7-32ff-4834-8cf8-9bb55e587ddb",
   "metadata": {},
   "outputs": [],
   "source": [
    "df['bert_text'] = df['text'].apply(light_clean_text_for_bert)"
   ]
  },
  {
   "cell_type": "code",
   "execution_count": 34,
   "id": "dacccb28-ad73-4a05-a590-a96fc121bf7d",
   "metadata": {},
   "outputs": [
    {
     "name": "stdout",
     "output_type": "stream",
     "text": [
      "<class 'pandas.core.frame.DataFrame'>\n",
      "RangeIndex: 587 entries, 0 to 586\n",
      "Data columns (total 6 columns):\n",
      " #   Column             Non-Null Count  Dtype  \n",
      "---  ------             --------------  -----  \n",
      " 0   text               587 non-null    object \n",
      " 1   target             587 non-null    float64\n",
      " 2   has_number         587 non-null    bool   \n",
      " 3   has_rating_number  587 non-null    bool   \n",
      " 4   final_text         587 non-null    object \n",
      " 5   bert_text          587 non-null    object \n",
      "dtypes: bool(2), float64(1), object(3)\n",
      "memory usage: 19.6+ KB\n"
     ]
    }
   ],
   "source": [
    "df.info()"
   ]
  },
  {
   "cell_type": "code",
   "execution_count": 35,
   "id": "8d1e45d7-c93f-4cd9-b9ab-b2eb85bf99e4",
   "metadata": {},
   "outputs": [],
   "source": [
    "df.to_csv('data/processed/preprocessed_train.csv', index=False)"
   ]
  }
 ],
 "metadata": {
  "kernelspec": {
   "display_name": "NLP venv",
   "language": "python",
   "name": "nlp_venv"
  },
  "language_info": {
   "codemirror_mode": {
    "name": "ipython",
    "version": 3
   },
   "file_extension": ".py",
   "mimetype": "text/x-python",
   "name": "python",
   "nbconvert_exporter": "python",
   "pygments_lexer": "ipython3",
   "version": "3.12.7"
  }
 },
 "nbformat": 4,
 "nbformat_minor": 5
}
